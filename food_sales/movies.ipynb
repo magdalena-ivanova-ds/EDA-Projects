{
 "cells": [
  {
   "cell_type": "code",
   "id": "initial_id",
   "metadata": {
    "collapsed": true,
    "ExecuteTime": {
     "end_time": "2025-03-06T10:18:14.623073Z",
     "start_time": "2025-03-06T10:18:14.614324Z"
    }
   },
   "source": [
    "import pandas as pd\n",
    "import numpy as np\n",
    "import matplotlib.pyplot as plt\n",
    "import seaborn as sns"
   ],
   "outputs": [],
   "execution_count": 733
  },
  {
   "metadata": {
    "ExecuteTime": {
     "end_time": "2025-03-06T10:18:14.664218Z",
     "start_time": "2025-03-06T10:18:14.646014Z"
    }
   },
   "cell_type": "code",
   "source": [
    "movies = pd.read_csv('IMDB_dataset.csv', encoding='utf-16', encoding_errors='ignore', delimiter=\";\")\n",
    "movies.head()"
   ],
   "id": "ec373515922cfcf8",
   "outputs": [
    {
     "data": {
      "text/plain": [
       "  IMBD title ID            Original title  Release year                 Genre  \\\n",
       "0     tt0111161  The Shawshank Redemption    1995-02-10                 Drama   \n",
       "1     tt0068646             The Godfather    09 21 1972          Crime, Drama   \n",
       "2     tt0468569           The Dark Knight   23 -07-2008  Action, Crime, Drama   \n",
       "3     tt0071562    The Godfather: Part II    1975-09-25          Crime, Drama   \n",
       "4     tt0110912              Pulp Fiction    1994-10-28          Crime, Drama   \n",
       "\n",
       "  Duration Country Content Rating              Director  Unnamed: 8  \\\n",
       "0      142     USA              R        Frank Darabont         NaN   \n",
       "1      175     USA              R  Francis Ford Coppola         NaN   \n",
       "2      152      US          PG-13     Christopher Nolan         NaN   \n",
       "3      220     USA              R  Francis Ford Coppola         NaN   \n",
       "4              USA              R     Quentin Tarantino         NaN   \n",
       "\n",
       "          Income      Votes Score  \n",
       "0     $ 28815245  2.278.845   9.3  \n",
       "1    $ 246120974  1.572.674   9.2  \n",
       "2   $ 1005455211  2.241.615    9.  \n",
       "3  $ 4o8,035,783  1.098.714  9,.0  \n",
       "4    $ 222831817  1.780.147  8,9f  "
      ],
      "text/html": [
       "<div>\n",
       "<style scoped>\n",
       "    .dataframe tbody tr th:only-of-type {\n",
       "        vertical-align: middle;\n",
       "    }\n",
       "\n",
       "    .dataframe tbody tr th {\n",
       "        vertical-align: top;\n",
       "    }\n",
       "\n",
       "    .dataframe thead th {\n",
       "        text-align: right;\n",
       "    }\n",
       "</style>\n",
       "<table border=\"1\" class=\"dataframe\">\n",
       "  <thead>\n",
       "    <tr style=\"text-align: right;\">\n",
       "      <th></th>\n",
       "      <th>IMBD title ID</th>\n",
       "      <th>Original title</th>\n",
       "      <th>Release year</th>\n",
       "      <th>Genre</th>\n",
       "      <th>Duration</th>\n",
       "      <th>Country</th>\n",
       "      <th>Content Rating</th>\n",
       "      <th>Director</th>\n",
       "      <th>Unnamed: 8</th>\n",
       "      <th>Income</th>\n",
       "      <th>Votes</th>\n",
       "      <th>Score</th>\n",
       "    </tr>\n",
       "  </thead>\n",
       "  <tbody>\n",
       "    <tr>\n",
       "      <th>0</th>\n",
       "      <td>tt0111161</td>\n",
       "      <td>The Shawshank Redemption</td>\n",
       "      <td>1995-02-10</td>\n",
       "      <td>Drama</td>\n",
       "      <td>142</td>\n",
       "      <td>USA</td>\n",
       "      <td>R</td>\n",
       "      <td>Frank Darabont</td>\n",
       "      <td>NaN</td>\n",
       "      <td>$ 28815245</td>\n",
       "      <td>2.278.845</td>\n",
       "      <td>9.3</td>\n",
       "    </tr>\n",
       "    <tr>\n",
       "      <th>1</th>\n",
       "      <td>tt0068646</td>\n",
       "      <td>The Godfather</td>\n",
       "      <td>09 21 1972</td>\n",
       "      <td>Crime, Drama</td>\n",
       "      <td>175</td>\n",
       "      <td>USA</td>\n",
       "      <td>R</td>\n",
       "      <td>Francis Ford Coppola</td>\n",
       "      <td>NaN</td>\n",
       "      <td>$ 246120974</td>\n",
       "      <td>1.572.674</td>\n",
       "      <td>9.2</td>\n",
       "    </tr>\n",
       "    <tr>\n",
       "      <th>2</th>\n",
       "      <td>tt0468569</td>\n",
       "      <td>The Dark Knight</td>\n",
       "      <td>23 -07-2008</td>\n",
       "      <td>Action, Crime, Drama</td>\n",
       "      <td>152</td>\n",
       "      <td>US</td>\n",
       "      <td>PG-13</td>\n",
       "      <td>Christopher Nolan</td>\n",
       "      <td>NaN</td>\n",
       "      <td>$ 1005455211</td>\n",
       "      <td>2.241.615</td>\n",
       "      <td>9.</td>\n",
       "    </tr>\n",
       "    <tr>\n",
       "      <th>3</th>\n",
       "      <td>tt0071562</td>\n",
       "      <td>The Godfather: Part II</td>\n",
       "      <td>1975-09-25</td>\n",
       "      <td>Crime, Drama</td>\n",
       "      <td>220</td>\n",
       "      <td>USA</td>\n",
       "      <td>R</td>\n",
       "      <td>Francis Ford Coppola</td>\n",
       "      <td>NaN</td>\n",
       "      <td>$ 4o8,035,783</td>\n",
       "      <td>1.098.714</td>\n",
       "      <td>9,.0</td>\n",
       "    </tr>\n",
       "    <tr>\n",
       "      <th>4</th>\n",
       "      <td>tt0110912</td>\n",
       "      <td>Pulp Fiction</td>\n",
       "      <td>1994-10-28</td>\n",
       "      <td>Crime, Drama</td>\n",
       "      <td></td>\n",
       "      <td>USA</td>\n",
       "      <td>R</td>\n",
       "      <td>Quentin Tarantino</td>\n",
       "      <td>NaN</td>\n",
       "      <td>$ 222831817</td>\n",
       "      <td>1.780.147</td>\n",
       "      <td>8,9f</td>\n",
       "    </tr>\n",
       "  </tbody>\n",
       "</table>\n",
       "</div>"
      ]
     },
     "execution_count": 734,
     "metadata": {},
     "output_type": "execute_result"
    }
   ],
   "execution_count": 734
  },
  {
   "metadata": {
    "ExecuteTime": {
     "end_time": "2025-03-06T10:18:14.723128Z",
     "start_time": "2025-03-06T10:18:14.714738Z"
    }
   },
   "cell_type": "code",
   "source": "movies.info()",
   "id": "fbf243d23c252d5d",
   "outputs": [
    {
     "name": "stdout",
     "output_type": "stream",
     "text": [
      "<class 'pandas.core.frame.DataFrame'>\n",
      "RangeIndex: 101 entries, 0 to 100\n",
      "Data columns (total 12 columns):\n",
      " #   Column          Non-Null Count  Dtype  \n",
      "---  ------          --------------  -----  \n",
      " 0   IMBD title ID   100 non-null    object \n",
      " 1   Original title  100 non-null    object \n",
      " 2   Release year    100 non-null    object \n",
      " 3   Genre           100 non-null    object \n",
      " 4   Duration        99 non-null     object \n",
      " 5   Country         100 non-null    object \n",
      " 6   Content Rating  77 non-null     object \n",
      " 7   Director        100 non-null    object \n",
      " 8   Unnamed: 8      0 non-null      float64\n",
      " 9   Income          100 non-null    object \n",
      " 10  Votes           100 non-null    object \n",
      " 11  Score           100 non-null    object \n",
      "dtypes: float64(1), object(11)\n",
      "memory usage: 9.6+ KB\n"
     ]
    }
   ],
   "execution_count": 735
  },
  {
   "metadata": {
    "ExecuteTime": {
     "end_time": "2025-03-06T10:18:14.769364Z",
     "start_time": "2025-03-06T10:18:14.759288Z"
    }
   },
   "cell_type": "code",
   "source": [
    "movies.drop(columns=['Unnamed: 8'], inplace=True)\n",
    "movies.dropna(subset=[\"IMBD title ID\"], inplace=True)\n",
    "movies[\"IMBD title ID\"] = movies[\"IMBD title ID\"].str.strip(\"tt00\")\n",
    "print(movies.loc[movies[\"IMBD title ID\"].isna()])\n",
    "movies[\"IMBD title ID\"].unique()\n"
   ],
   "id": "aaa514be2069d65e",
   "outputs": [
    {
     "name": "stdout",
     "output_type": "stream",
     "text": [
      "Empty DataFrame\n",
      "Columns: [IMBD title ID, Original title, Release year, Genre, Duration, Country, Content Rating, Director, Income, Votes, Score]\n",
      "Index: []\n"
     ]
    },
    {
     "data": {
      "text/plain": [
       "array(['111161', '68646', '468569', '71562', '110912', '16726', '108052',\n",
       "       '50083', '1375666', '137523', '10983', '120737', '60196', '133093',\n",
       "       '167261', '80684', '99685', '73486', '816692', '114369', '102926',\n",
       "       '76759', '120815', '120689', '317248', '245429', '118799',\n",
       "       '6751668', '3865', '47478', '172495', '407887', '482571', '88763',\n",
       "       '120586', '110413', '103064', '114814', '110357', '7286456',\n",
       "       '1675434', '253474', '2582802', '54215', '34583', '64116', '95327',\n",
       "       '95765', '27977', '1345836', '1853728', '209144', '91097', '81505',\n",
       "       '82971', '4154756', '78748', '4154796', '78788', '364569', '57012',\n",
       "       '47396', '2380307', '405094', '4633694', '1187043', '119698',\n",
       "       '87843', '32553', '43014', '361748', '169547', '112573', '8619',\n",
       "       '105236', '338013', '114709', '119217', '208092', '180093',\n",
       "       '66921', '435761', '8625', '75314', '211915', '93058', '90605',\n",
       "       '62622', '33467', '8579674', '86879', '52357', '53125', '2106476',\n",
       "       '56172', '70735', '82096', '59578', '1832382', '45152'],\n",
       "      dtype=object)"
      ]
     },
     "execution_count": 736,
     "metadata": {},
     "output_type": "execute_result"
    }
   ],
   "execution_count": 736
  },
  {
   "metadata": {
    "ExecuteTime": {
     "end_time": "2025-03-06T10:18:14.860877Z",
     "start_time": "2025-03-06T10:18:14.851454Z"
    }
   },
   "cell_type": "code",
   "source": [
    "movies[\"Duration\"].unique()\n",
    "movies[\"Duration\"] = movies[\"Duration\"].str.strip(\" c-InfNot Applicable\")\n",
    "movies[\"Duration\"].unique()\n",
    "movies.loc[movies[\"Duration\"].isin([\"\"]), \"Duration\"] = np.nan\n",
    "movies[\"Duration\"].unique()\n",
    "movies[\"Duration\"] = movies[\"Duration\"].astype(float)\n",
    "movies[\"Duration\"]=movies[\"Duration\"].fillna(movies[\"Duration\"].mean().round(0))\n",
    "movies[\"Duration\"] = movies[\"Duration\"].astype(int)\n",
    "movies[\"Duration\"].unique()"
   ],
   "id": "50c0c474ebe9e408",
   "outputs": [
    {
     "data": {
      "text/plain": [
       "array([142, 175, 152, 220, 135, 201,  96, 148, 178, 161, 179, 146, 169,\n",
       "       127, 118, 121, 189, 130, 125, 116, 132, 207, 155, 151, 119, 110,\n",
       "       137, 106,  88, 122, 112, 150, 109, 102, 165,  89,  87, 164, 113,\n",
       "        98, 115, 149, 117, 181, 147, 120,  95, 105, 170, 134, 229, 153,\n",
       "       131,  99, 108,  81, 126, 104, 136, 103, 114, 160, 128, 228, 129,\n",
       "       123])"
      ]
     },
     "execution_count": 737,
     "metadata": {},
     "output_type": "execute_result"
    }
   ],
   "execution_count": 737
  },
  {
   "metadata": {
    "ExecuteTime": {
     "end_time": "2025-03-06T10:18:14.908406Z",
     "start_time": "2025-03-06T10:18:14.894079Z"
    }
   },
   "cell_type": "code",
   "source": [
    "movies[movies.duplicated()] #no duplicates\n",
    "movies[\"Release year\"] = movies[\"Release year\"].str.strip()\n",
    "movies[\"Release year\"] = movies[\"Release year\"].str.replace(\"/\",\"-\")\n",
    "movies[\"Release year\"] = pd.to_datetime(movies[\"Release year\"],errors = 'coerce').dt.date\n",
    "mode = movies[\"Release year\"].mode()[0]\n",
    "movies[\"Release year\"]=movies[\"Release year\"].fillna(mode)\n",
    "movies[\"Release year\"].value_counts()"
   ],
   "id": "21133e2fd5c0c021",
   "outputs": [
    {
     "data": {
      "text/plain": [
       "Release year\n",
       "2000-05-19    13\n",
       "1995-02-10     1\n",
       "1975-09-25     1\n",
       "1994-10-28     1\n",
       "1994-03-11     1\n",
       "              ..\n",
       "1974-03-21     1\n",
       "1982-03-18     1\n",
       "1965-12-20     1\n",
       "2011-10-21     1\n",
       "1953-02-05     1\n",
       "Name: count, Length: 88, dtype: int64"
      ]
     },
     "execution_count": 738,
     "metadata": {},
     "output_type": "execute_result"
    }
   ],
   "execution_count": 738
  },
  {
   "metadata": {
    "ExecuteTime": {
     "end_time": "2025-03-06T10:18:14.964134Z",
     "start_time": "2025-03-06T10:18:14.960141Z"
    }
   },
   "cell_type": "code",
   "source": "",
   "id": "b17bab02c51f9e2",
   "outputs": [],
   "execution_count": null
  },
  {
   "metadata": {
    "ExecuteTime": {
     "end_time": "2025-03-06T10:18:15.046877Z",
     "start_time": "2025-03-06T10:18:15.015158Z"
    }
   },
   "cell_type": "code",
   "source": [
    "movies[\"Genre\"].unique()\n",
    "# Split the 'Genre' column by comma\n",
    "split_genre = movies['Genre'].str.split(',', expand=True)\n",
    "\n",
    "unique_values = pd.unique(split_genre.values.ravel())\n",
    "unique_values = [val.strip() for val in unique_values if pd.notna(val)]\n",
    "print(unique_values)\n",
    "\n",
    "# Step 3: One-Hot Encoding (Create new columns for each unique value)\n",
    "for val in unique_values:\n",
    "    movies[val] = movies['Genre'].apply(lambda x: 1 if val in x else 0)\n",
    "\n",
    "# Display the updated DataFrame\n",
    "movies.drop(columns=['Genre'], inplace=True)\n",
    "movies.head()"
   ],
   "id": "8af7dea3bb0241a6",
   "outputs": [
    {
     "name": "stdout",
     "output_type": "stream",
     "text": [
      "['Drama', 'Crime', 'Drama', 'Action', 'Crime', 'Adventure', 'Biography', 'History', 'Sci-Fi', 'Romance', 'Western', 'Fantasy', 'Adventure', 'Mystery', 'Thriller', 'War', 'Animation', 'Family', 'Comedy', 'Comedy', 'Music', 'Horror', 'Western', 'Mystery', 'Horror', 'Action', 'Film-Noir', 'Biography', 'Musical']\n"
     ]
    },
    {
     "data": {
      "text/plain": [
       "  IMBD title ID            Original title Release year  Duration Country  \\\n",
       "0        111161  The Shawshank Redemption   1995-02-10       142     USA   \n",
       "1         68646             The Godfather   2000-05-19       175     USA   \n",
       "2        468569           The Dark Knight   2000-05-19       152      US   \n",
       "3         71562    The Godfather: Part II   1975-09-25       220     USA   \n",
       "4        110912              Pulp Fiction   1994-10-28       135     USA   \n",
       "\n",
       "  Content Rating              Director         Income      Votes Score  ...  \\\n",
       "0              R        Frank Darabont     $ 28815245  2.278.845   9.3  ...   \n",
       "1              R  Francis Ford Coppola    $ 246120974  1.572.674   9.2  ...   \n",
       "2          PG-13     Christopher Nolan   $ 1005455211  2.241.615    9.  ...   \n",
       "3              R  Francis Ford Coppola  $ 4o8,035,783  1.098.714  9,.0  ...   \n",
       "4              R     Quentin Tarantino    $ 222831817  1.780.147  8,9f  ...   \n",
       "\n",
       "   Mystery  Thriller  War  Animation  Family  Comedy  Music  Horror  \\\n",
       "0        0         0    0          0       0       0      0       0   \n",
       "1        0         0    0          0       0       0      0       0   \n",
       "2        0         0    0          0       0       0      0       0   \n",
       "3        0         0    0          0       0       0      0       0   \n",
       "4        0         0    0          0       0       0      0       0   \n",
       "\n",
       "   Film-Noir  Musical  \n",
       "0          0        0  \n",
       "1          0        0  \n",
       "2          0        0  \n",
       "3          0        0  \n",
       "4          0        0  \n",
       "\n",
       "[5 rows x 30 columns]"
      ],
      "text/html": [
       "<div>\n",
       "<style scoped>\n",
       "    .dataframe tbody tr th:only-of-type {\n",
       "        vertical-align: middle;\n",
       "    }\n",
       "\n",
       "    .dataframe tbody tr th {\n",
       "        vertical-align: top;\n",
       "    }\n",
       "\n",
       "    .dataframe thead th {\n",
       "        text-align: right;\n",
       "    }\n",
       "</style>\n",
       "<table border=\"1\" class=\"dataframe\">\n",
       "  <thead>\n",
       "    <tr style=\"text-align: right;\">\n",
       "      <th></th>\n",
       "      <th>IMBD title ID</th>\n",
       "      <th>Original title</th>\n",
       "      <th>Release year</th>\n",
       "      <th>Duration</th>\n",
       "      <th>Country</th>\n",
       "      <th>Content Rating</th>\n",
       "      <th>Director</th>\n",
       "      <th>Income</th>\n",
       "      <th>Votes</th>\n",
       "      <th>Score</th>\n",
       "      <th>...</th>\n",
       "      <th>Mystery</th>\n",
       "      <th>Thriller</th>\n",
       "      <th>War</th>\n",
       "      <th>Animation</th>\n",
       "      <th>Family</th>\n",
       "      <th>Comedy</th>\n",
       "      <th>Music</th>\n",
       "      <th>Horror</th>\n",
       "      <th>Film-Noir</th>\n",
       "      <th>Musical</th>\n",
       "    </tr>\n",
       "  </thead>\n",
       "  <tbody>\n",
       "    <tr>\n",
       "      <th>0</th>\n",
       "      <td>111161</td>\n",
       "      <td>The Shawshank Redemption</td>\n",
       "      <td>1995-02-10</td>\n",
       "      <td>142</td>\n",
       "      <td>USA</td>\n",
       "      <td>R</td>\n",
       "      <td>Frank Darabont</td>\n",
       "      <td>$ 28815245</td>\n",
       "      <td>2.278.845</td>\n",
       "      <td>9.3</td>\n",
       "      <td>...</td>\n",
       "      <td>0</td>\n",
       "      <td>0</td>\n",
       "      <td>0</td>\n",
       "      <td>0</td>\n",
       "      <td>0</td>\n",
       "      <td>0</td>\n",
       "      <td>0</td>\n",
       "      <td>0</td>\n",
       "      <td>0</td>\n",
       "      <td>0</td>\n",
       "    </tr>\n",
       "    <tr>\n",
       "      <th>1</th>\n",
       "      <td>68646</td>\n",
       "      <td>The Godfather</td>\n",
       "      <td>2000-05-19</td>\n",
       "      <td>175</td>\n",
       "      <td>USA</td>\n",
       "      <td>R</td>\n",
       "      <td>Francis Ford Coppola</td>\n",
       "      <td>$ 246120974</td>\n",
       "      <td>1.572.674</td>\n",
       "      <td>9.2</td>\n",
       "      <td>...</td>\n",
       "      <td>0</td>\n",
       "      <td>0</td>\n",
       "      <td>0</td>\n",
       "      <td>0</td>\n",
       "      <td>0</td>\n",
       "      <td>0</td>\n",
       "      <td>0</td>\n",
       "      <td>0</td>\n",
       "      <td>0</td>\n",
       "      <td>0</td>\n",
       "    </tr>\n",
       "    <tr>\n",
       "      <th>2</th>\n",
       "      <td>468569</td>\n",
       "      <td>The Dark Knight</td>\n",
       "      <td>2000-05-19</td>\n",
       "      <td>152</td>\n",
       "      <td>US</td>\n",
       "      <td>PG-13</td>\n",
       "      <td>Christopher Nolan</td>\n",
       "      <td>$ 1005455211</td>\n",
       "      <td>2.241.615</td>\n",
       "      <td>9.</td>\n",
       "      <td>...</td>\n",
       "      <td>0</td>\n",
       "      <td>0</td>\n",
       "      <td>0</td>\n",
       "      <td>0</td>\n",
       "      <td>0</td>\n",
       "      <td>0</td>\n",
       "      <td>0</td>\n",
       "      <td>0</td>\n",
       "      <td>0</td>\n",
       "      <td>0</td>\n",
       "    </tr>\n",
       "    <tr>\n",
       "      <th>3</th>\n",
       "      <td>71562</td>\n",
       "      <td>The Godfather: Part II</td>\n",
       "      <td>1975-09-25</td>\n",
       "      <td>220</td>\n",
       "      <td>USA</td>\n",
       "      <td>R</td>\n",
       "      <td>Francis Ford Coppola</td>\n",
       "      <td>$ 4o8,035,783</td>\n",
       "      <td>1.098.714</td>\n",
       "      <td>9,.0</td>\n",
       "      <td>...</td>\n",
       "      <td>0</td>\n",
       "      <td>0</td>\n",
       "      <td>0</td>\n",
       "      <td>0</td>\n",
       "      <td>0</td>\n",
       "      <td>0</td>\n",
       "      <td>0</td>\n",
       "      <td>0</td>\n",
       "      <td>0</td>\n",
       "      <td>0</td>\n",
       "    </tr>\n",
       "    <tr>\n",
       "      <th>4</th>\n",
       "      <td>110912</td>\n",
       "      <td>Pulp Fiction</td>\n",
       "      <td>1994-10-28</td>\n",
       "      <td>135</td>\n",
       "      <td>USA</td>\n",
       "      <td>R</td>\n",
       "      <td>Quentin Tarantino</td>\n",
       "      <td>$ 222831817</td>\n",
       "      <td>1.780.147</td>\n",
       "      <td>8,9f</td>\n",
       "      <td>...</td>\n",
       "      <td>0</td>\n",
       "      <td>0</td>\n",
       "      <td>0</td>\n",
       "      <td>0</td>\n",
       "      <td>0</td>\n",
       "      <td>0</td>\n",
       "      <td>0</td>\n",
       "      <td>0</td>\n",
       "      <td>0</td>\n",
       "      <td>0</td>\n",
       "    </tr>\n",
       "  </tbody>\n",
       "</table>\n",
       "<p>5 rows × 30 columns</p>\n",
       "</div>"
      ]
     },
     "execution_count": 739,
     "metadata": {},
     "output_type": "execute_result"
    }
   ],
   "execution_count": 739
  },
  {
   "metadata": {
    "ExecuteTime": {
     "end_time": "2025-03-06T10:18:15.117543Z",
     "start_time": "2025-03-06T10:18:15.109474Z"
    }
   },
   "cell_type": "code",
   "source": [
    "movies.loc[movies[\"Country\"].str.contains(\"US\"), \"Country\"] = \"USA\"\n",
    "movies.loc[movies[\"Country\"].str.contains(\"Germany\"), \"Country\"] = \"Germany\"\n",
    "movies.loc[movies[\"Country\"].str.contains(\"New Z\"), \"Country\"] = \"New Zealand\"\n",
    "movies.loc[movies[\"Country\"].str.contains(\"Italy\"), \"Country\"] = \"Italy\"\n",
    "movies[\"Country\"].unique()"
   ],
   "id": "b144d6b38bfb6ecc",
   "outputs": [
    {
     "data": {
      "text/plain": [
       "array(['USA', 'New Zealand', 'UK', 'Italy', 'Brazil', 'Japan',\n",
       "       'South Korea', 'France', 'Germany', 'India', 'Denmark', 'Iran'],\n",
       "      dtype=object)"
      ]
     },
     "execution_count": 740,
     "metadata": {},
     "output_type": "execute_result"
    }
   ],
   "execution_count": 740
  },
  {
   "metadata": {
    "ExecuteTime": {
     "end_time": "2025-03-06T10:18:15.180236Z",
     "start_time": "2025-03-06T10:18:15.168279Z"
    }
   },
   "cell_type": "code",
   "source": [
    "movies[\"Content Rating\"].unique()\n",
    "movies[\"Content Rating\"] = movies[\"Content Rating\"].fillna(\"Not Rated\")\n",
    "movies.loc[movies[\"Content Rating\"].str.contains(\"Not Rated|Approved|Unrated\"), \"Content Rating\"] = \"Not Rated\"\n",
    "movies[\"Content Rating\"] = movies[\"Content Rating\"].astype(\"category\")\n",
    "movies[\"Content Rating\"] = movies[\"Content Rating\"].cat.set_categories(new_categories=[\"Not Rated\", \"G\", \"PG\", \"PG-13\", \"R\"], ordered=True)\n",
    "movies[\"Content Rating\"].value_counts()"
   ],
   "id": "abf3e039a9a462b7",
   "outputs": [
    {
     "data": {
      "text/plain": [
       "Content Rating\n",
       "R            45\n",
       "Not Rated    26\n",
       "PG-13        12\n",
       "PG           11\n",
       "G             6\n",
       "Name: count, dtype: int64"
      ]
     },
     "execution_count": 741,
     "metadata": {},
     "output_type": "execute_result"
    }
   ],
   "execution_count": 741
  },
  {
   "metadata": {
    "ExecuteTime": {
     "end_time": "2025-03-06T10:18:15.271207Z",
     "start_time": "2025-03-06T10:18:15.262532Z"
    }
   },
   "cell_type": "code",
   "source": [
    "movies[\"Income\"].unique()\n",
    "movies[\"Income\"]=movies[\"Income\"].str.strip(\"$ \").str.replace(\",\",\"\").str.replace(\"o\",\"0\").astype(int)\n",
    "movies[\"Income\"].unique()"
   ],
   "id": "5c9657ca3e6d777a",
   "outputs": [
    {
     "data": {
      "text/plain": [
       "array([  28815245,  246120974, 1005455211,  408035783,  222831817,\n",
       "       1142271098,  322287794,        576,  869784991,  101218804,\n",
       "        678229452,  887934303,   25252481,  465718588,  951227416,\n",
       "        549265501,   46879633,  108997629,  696742056,  327333559,\n",
       "        272753884,  775768912,  482349603,  286801374,   30680793,\n",
       "        355467056,  230098753,  257604912,    6130720,     322773,\n",
       "        465361176,  291465034,  109676311,  388774684,   23875127,\n",
       "         19552639,  520884847,   23341568,  968511805, 1074251311,\n",
       "        426588510,  120072577,   48983260,   32008644,    4374761,\n",
       "           112911,     516962,   13826605,     457688, 1081133191,\n",
       "        425368238,   39970386,  521311860,   46520613,  390133212,\n",
       "       2048359754,  108110316, 2797800564,   91968688,   15002116,\n",
       "          9443876,   37032034,  807083670,   77356942,  375540831,\n",
       "         60262836,  169785629,    5472914,     969879,     299645,\n",
       "        321455689,  356296601,  213216216,  475347111,    2889963,\n",
       "         74036715,  404265438,  225933435,   83557872,    7390108,\n",
       "         26903440, 1066969703,   66023585,   28441292,  173924742,\n",
       "         46357676,  131384634,   68989547,    1594107,  384857224,\n",
       "         52066791,    7796389,      73446,   15843274,   45710874,\n",
       "        156000000,   11487676,   15000000,   22926076,    1864182])"
      ]
     },
     "execution_count": 742,
     "metadata": {},
     "output_type": "execute_result"
    }
   ],
   "execution_count": 742
  },
  {
   "metadata": {
    "ExecuteTime": {
     "end_time": "2025-03-06T10:18:15.411378Z",
     "start_time": "2025-03-06T10:18:15.392542Z"
    }
   },
   "cell_type": "code",
   "source": [
    "movies[\"Votes\"].unique()\n",
    "movies[\"Votes\"]=movies[\"Votes\"].str.replace(\".\",\"\").astype(int)\n",
    "movies[\"Votes\"].unique()"
   ],
   "id": "f584c498df2eca8d",
   "outputs": [
    {
     "data": {
      "text/plain": [
       "array([2278845, 1572674, 2241615, 1098714, 1780147, 1604280, 1183248,\n",
       "        668473, 2002816, 1807440, 1755490, 1619920,  672499, 1632315,\n",
       "       1449778, 1132073,  991505,  891071, 1449256, 1402015, 1234134,\n",
       "       1204107, 1203825, 1112336,  685856,  626693,  605648,  470931,\n",
       "        388310,  307958, 1308193, 1159703, 1155723, 1027330, 1014218,\n",
       "       1007598,  974970,  968947,  917248,  855097,  736691,  707942,\n",
       "        690732,  586765,  509953,  295220,  225438,  223050,  211250,\n",
       "       1480582, 1317856, 1098879,  974734,  869480,  865510,  796486,\n",
       "        768874,  754786,  591251,  501082,  441115,  432390,  352455,\n",
       "        349642,  335892,  332217,  331045,  302317,  197381,  195789,\n",
       "       1229958, 1049009,  941683,  928036,  896551,  889875,  864461,\n",
       "        837379,  766589,  748291,  740301,  739717,  721343,  703264,\n",
       "        690480,  658175,  639500,  587866,  389322,  362897,  361028,\n",
       "        352786,  291628,  269616,  261504,  236285,  226427,  226039,\n",
       "        214165,  213152])"
      ]
     },
     "execution_count": 743,
     "metadata": {},
     "output_type": "execute_result"
    }
   ],
   "execution_count": 743
  },
  {
   "metadata": {
    "ExecuteTime": {
     "end_time": "2025-03-06T10:18:15.593764Z",
     "start_time": "2025-03-06T10:18:15.583274Z"
    }
   },
   "cell_type": "code",
   "source": [
    "movies[\"Score\"].unique()\n",
    "movies[\"Score\"]=movies[\"Score\"].str.strip(\"0.e-0++f\").str.replace(\",\",\".\").str.replace(\":\",\".\")\n",
    "movies.loc[movies[\"Score\"].str.contains(\"9.\"), \"Score\"] = \"9.0\"\n",
    "movies.loc[movies[\"Score\"].str.contains(\"8..8\"), \"Score\"] = \"8.8\"\n",
    "movies[\"Score\"]=movies[\"Score\"].astype(float)\n",
    "movies[\"Score\"].unique()"
   ],
   "id": "ab56d84f82bf6d11",
   "outputs": [
    {
     "data": {
      "text/plain": [
       "array([9. , 8.9, 8.8, 8.7, 8.6, 8.5, 8.4, 8.3, 8.2, 8.1, 8. , 7.9, 7.8,\n",
       "       7.7, 7.6, 7.5, 7.4])"
      ]
     },
     "execution_count": 744,
     "metadata": {},
     "output_type": "execute_result"
    }
   ],
   "execution_count": 744
  }
 ],
 "metadata": {
  "kernelspec": {
   "display_name": "Python 3",
   "language": "python",
   "name": "python3"
  },
  "language_info": {
   "codemirror_mode": {
    "name": "ipython",
    "version": 2
   },
   "file_extension": ".py",
   "mimetype": "text/x-python",
   "name": "python",
   "nbconvert_exporter": "python",
   "pygments_lexer": "ipython2",
   "version": "2.7.6"
  }
 },
 "nbformat": 4,
 "nbformat_minor": 5
}
