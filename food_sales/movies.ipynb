{
 "cells": [
  {
   "cell_type": "code",
   "id": "initial_id",
   "metadata": {
    "collapsed": true,
    "ExecuteTime": {
     "end_time": "2025-03-06T10:51:33.331704Z",
     "start_time": "2025-03-06T10:51:33.322962Z"
    }
   },
   "source": [
    "import pandas as pd\n",
    "import numpy as np\n",
    "import matplotlib.pyplot as plt\n",
    "import seaborn as sns"
   ],
   "outputs": [],
   "execution_count": 1091
  },
  {
   "metadata": {
    "ExecuteTime": {
     "end_time": "2025-03-06T10:51:33.376921Z",
     "start_time": "2025-03-06T10:51:33.354360Z"
    }
   },
   "cell_type": "code",
   "source": [
    "movies = pd.read_csv('IMDB_dataset.csv', encoding='utf-16', encoding_errors='ignore', delimiter=\";\")\n",
    "movies.head()"
   ],
   "id": "ec373515922cfcf8",
   "outputs": [
    {
     "data": {
      "text/plain": [
       "  IMBD title ID            Original title  Release year                 Genre  \\\n",
       "0     tt0111161  The Shawshank Redemption    1995-02-10                 Drama   \n",
       "1     tt0068646             The Godfather    09 21 1972          Crime, Drama   \n",
       "2     tt0468569           The Dark Knight   23 -07-2008  Action, Crime, Drama   \n",
       "3     tt0071562    The Godfather: Part II    1975-09-25          Crime, Drama   \n",
       "4     tt0110912              Pulp Fiction    1994-10-28          Crime, Drama   \n",
       "\n",
       "  Duration Country Content Rating              Director  Unnamed: 8  \\\n",
       "0      142     USA              R        Frank Darabont         NaN   \n",
       "1      175     USA              R  Francis Ford Coppola         NaN   \n",
       "2      152      US          PG-13     Christopher Nolan         NaN   \n",
       "3      220     USA              R  Francis Ford Coppola         NaN   \n",
       "4              USA              R     Quentin Tarantino         NaN   \n",
       "\n",
       "          Income      Votes Score  \n",
       "0     $ 28815245  2.278.845   9.3  \n",
       "1    $ 246120974  1.572.674   9.2  \n",
       "2   $ 1005455211  2.241.615    9.  \n",
       "3  $ 4o8,035,783  1.098.714  9,.0  \n",
       "4    $ 222831817  1.780.147  8,9f  "
      ],
      "text/html": [
       "<div>\n",
       "<style scoped>\n",
       "    .dataframe tbody tr th:only-of-type {\n",
       "        vertical-align: middle;\n",
       "    }\n",
       "\n",
       "    .dataframe tbody tr th {\n",
       "        vertical-align: top;\n",
       "    }\n",
       "\n",
       "    .dataframe thead th {\n",
       "        text-align: right;\n",
       "    }\n",
       "</style>\n",
       "<table border=\"1\" class=\"dataframe\">\n",
       "  <thead>\n",
       "    <tr style=\"text-align: right;\">\n",
       "      <th></th>\n",
       "      <th>IMBD title ID</th>\n",
       "      <th>Original title</th>\n",
       "      <th>Release year</th>\n",
       "      <th>Genre</th>\n",
       "      <th>Duration</th>\n",
       "      <th>Country</th>\n",
       "      <th>Content Rating</th>\n",
       "      <th>Director</th>\n",
       "      <th>Unnamed: 8</th>\n",
       "      <th>Income</th>\n",
       "      <th>Votes</th>\n",
       "      <th>Score</th>\n",
       "    </tr>\n",
       "  </thead>\n",
       "  <tbody>\n",
       "    <tr>\n",
       "      <th>0</th>\n",
       "      <td>tt0111161</td>\n",
       "      <td>The Shawshank Redemption</td>\n",
       "      <td>1995-02-10</td>\n",
       "      <td>Drama</td>\n",
       "      <td>142</td>\n",
       "      <td>USA</td>\n",
       "      <td>R</td>\n",
       "      <td>Frank Darabont</td>\n",
       "      <td>NaN</td>\n",
       "      <td>$ 28815245</td>\n",
       "      <td>2.278.845</td>\n",
       "      <td>9.3</td>\n",
       "    </tr>\n",
       "    <tr>\n",
       "      <th>1</th>\n",
       "      <td>tt0068646</td>\n",
       "      <td>The Godfather</td>\n",
       "      <td>09 21 1972</td>\n",
       "      <td>Crime, Drama</td>\n",
       "      <td>175</td>\n",
       "      <td>USA</td>\n",
       "      <td>R</td>\n",
       "      <td>Francis Ford Coppola</td>\n",
       "      <td>NaN</td>\n",
       "      <td>$ 246120974</td>\n",
       "      <td>1.572.674</td>\n",
       "      <td>9.2</td>\n",
       "    </tr>\n",
       "    <tr>\n",
       "      <th>2</th>\n",
       "      <td>tt0468569</td>\n",
       "      <td>The Dark Knight</td>\n",
       "      <td>23 -07-2008</td>\n",
       "      <td>Action, Crime, Drama</td>\n",
       "      <td>152</td>\n",
       "      <td>US</td>\n",
       "      <td>PG-13</td>\n",
       "      <td>Christopher Nolan</td>\n",
       "      <td>NaN</td>\n",
       "      <td>$ 1005455211</td>\n",
       "      <td>2.241.615</td>\n",
       "      <td>9.</td>\n",
       "    </tr>\n",
       "    <tr>\n",
       "      <th>3</th>\n",
       "      <td>tt0071562</td>\n",
       "      <td>The Godfather: Part II</td>\n",
       "      <td>1975-09-25</td>\n",
       "      <td>Crime, Drama</td>\n",
       "      <td>220</td>\n",
       "      <td>USA</td>\n",
       "      <td>R</td>\n",
       "      <td>Francis Ford Coppola</td>\n",
       "      <td>NaN</td>\n",
       "      <td>$ 4o8,035,783</td>\n",
       "      <td>1.098.714</td>\n",
       "      <td>9,.0</td>\n",
       "    </tr>\n",
       "    <tr>\n",
       "      <th>4</th>\n",
       "      <td>tt0110912</td>\n",
       "      <td>Pulp Fiction</td>\n",
       "      <td>1994-10-28</td>\n",
       "      <td>Crime, Drama</td>\n",
       "      <td></td>\n",
       "      <td>USA</td>\n",
       "      <td>R</td>\n",
       "      <td>Quentin Tarantino</td>\n",
       "      <td>NaN</td>\n",
       "      <td>$ 222831817</td>\n",
       "      <td>1.780.147</td>\n",
       "      <td>8,9f</td>\n",
       "    </tr>\n",
       "  </tbody>\n",
       "</table>\n",
       "</div>"
      ]
     },
     "execution_count": 1092,
     "metadata": {},
     "output_type": "execute_result"
    }
   ],
   "execution_count": 1092
  },
  {
   "metadata": {
    "ExecuteTime": {
     "end_time": "2025-03-06T10:51:33.433172Z",
     "start_time": "2025-03-06T10:51:33.423835Z"
    }
   },
   "cell_type": "code",
   "source": "movies[movies.duplicated()].count() #no duplicates",
   "id": "7930438f0660d3ca",
   "outputs": [
    {
     "data": {
      "text/plain": [
       "IMBD title ID     0\n",
       "Original title    0\n",
       "Release year      0\n",
       "Genre             0\n",
       "Duration          0\n",
       "Country           0\n",
       "Content Rating    0\n",
       "Director          0\n",
       "Unnamed: 8        0\n",
       "Income            0\n",
       "Votes             0\n",
       "Score             0\n",
       "dtype: int64"
      ]
     },
     "execution_count": 1093,
     "metadata": {},
     "output_type": "execute_result"
    }
   ],
   "execution_count": 1093
  },
  {
   "metadata": {
    "ExecuteTime": {
     "end_time": "2025-03-06T10:51:33.528420Z",
     "start_time": "2025-03-06T10:51:33.507155Z"
    }
   },
   "cell_type": "code",
   "source": "movies.info()",
   "id": "fbf243d23c252d5d",
   "outputs": [
    {
     "name": "stdout",
     "output_type": "stream",
     "text": [
      "<class 'pandas.core.frame.DataFrame'>\n",
      "RangeIndex: 101 entries, 0 to 100\n",
      "Data columns (total 12 columns):\n",
      " #   Column          Non-Null Count  Dtype  \n",
      "---  ------          --------------  -----  \n",
      " 0   IMBD title ID   100 non-null    object \n",
      " 1   Original title  100 non-null    object \n",
      " 2   Release year    100 non-null    object \n",
      " 3   Genre           100 non-null    object \n",
      " 4   Duration        99 non-null     object \n",
      " 5   Country         100 non-null    object \n",
      " 6   Content Rating  77 non-null     object \n",
      " 7   Director        100 non-null    object \n",
      " 8   Unnamed: 8      0 non-null      float64\n",
      " 9   Income          100 non-null    object \n",
      " 10  Votes           100 non-null    object \n",
      " 11  Score           100 non-null    object \n",
      "dtypes: float64(1), object(11)\n",
      "memory usage: 9.6+ KB\n"
     ]
    }
   ],
   "execution_count": 1094
  },
  {
   "metadata": {
    "ExecuteTime": {
     "end_time": "2025-03-06T10:51:33.675406Z",
     "start_time": "2025-03-06T10:51:33.666023Z"
    }
   },
   "cell_type": "code",
   "source": [
    "movies.drop(columns=['Unnamed: 8'], inplace=True)\n",
    "movies.dropna(subset=[\"IMBD title ID\"], inplace=True)\n",
    "movies[\"IMBD title ID\"].unique()\n"
   ],
   "id": "aaa514be2069d65e",
   "outputs": [
    {
     "data": {
      "text/plain": [
       "array(['tt0111161', 'tt0068646', 'tt0468569', 'tt0071562', 'tt0110912',\n",
       "       'tt0167260', 'tt0108052', 'tt0050083', 'tt1375666', 'tt0137523',\n",
       "       'tt0109830', 'tt0120737', 'tt0060196', 'tt0133093', 'tt0167261',\n",
       "       'tt0080684', 'tt0099685', 'tt0073486', 'tt0816692', 'tt0114369',\n",
       "       'tt0102926', 'tt0076759', 'tt0120815', 'tt0120689', 'tt0317248',\n",
       "       'tt0245429', 'tt0118799', 'tt6751668', 'tt0038650', 'tt0047478',\n",
       "       'tt0172495', 'tt0407887', 'tt0482571', 'tt0088763', 'tt0120586',\n",
       "       'tt0110413', 'tt0103064', 'tt0114814', 'tt0110357', 'tt7286456',\n",
       "       'tt1675434', 'tt0253474', 'tt2582802', 'tt0054215', 'tt0034583',\n",
       "       'tt0064116', 'tt0095327', 'tt0095765', 'tt0027977', 'tt1345836',\n",
       "       'tt1853728', 'tt0209144', 'tt0910970', 'tt0081505', 'tt0082971',\n",
       "       'tt4154756', 'tt0078748', 'tt4154796', 'tt0078788', 'tt0364569',\n",
       "       'tt0057012', 'tt0047396', 'tt2380307', 'tt0405094', 'tt4633694',\n",
       "       'tt1187043', 'tt0119698', 'tt0087843', 'tt0032553', 'tt0043014',\n",
       "       'tt0361748', 'tt0169547', 'tt0112573', 'tt0086190', 'tt0105236',\n",
       "       'tt0338013', 'tt0114709', 'tt0119217', 'tt0208092', 'tt0180093',\n",
       "       'tt0066921', 'tt0435761', 'tt0086250', 'tt0075314', 'tt0211915',\n",
       "       'tt0093058', 'tt0090605', 'tt0062622', 'tt0033467', 'tt8579674',\n",
       "       'tt0086879', 'tt0052357', 'tt0053125', 'tt2106476', 'tt0056172',\n",
       "       'tt0070735', 'tt0082096', 'tt0059578', 'tt1832382', 'tt0045152'],\n",
       "      dtype=object)"
      ]
     },
     "execution_count": 1095,
     "metadata": {},
     "output_type": "execute_result"
    }
   ],
   "execution_count": 1095
  },
  {
   "metadata": {
    "ExecuteTime": {
     "end_time": "2025-03-06T10:51:33.936159Z",
     "start_time": "2025-03-06T10:51:33.923213Z"
    }
   },
   "cell_type": "code",
   "source": "movies[\"Release year\"].unique()",
   "id": "4ac13fe31b7b2303",
   "outputs": [
    {
     "data": {
      "text/plain": [
       "array(['1995-02-10', '09 21 1972', ' 23 -07-2008', '1975-09-25',\n",
       "       '1994-10-28', '22 Feb 04', '1994-03-11', '1957-09-04',\n",
       "       '2010-09-24', '10-29-99', '1994-10-06', '2002-01-18',\n",
       "       '23rd December of 1966 ', '1999-05-07', '01/16-03', '1980-09-19',\n",
       "       '1990-09-20', '18/11/1976', '2014-11-06', '1995-12-15',\n",
       "       '1991-03-05', '1977-10-20', '1998-10-30', '2000-10-03',\n",
       "       '2003-05-09', '2003-04-18', '1997-12-20', '2019-11-07',\n",
       "       '1948-03-11', '1955-08-19', '2000-05-19', '2006-10-27',\n",
       "       '2006-12-22', '1985-10-18', '1999-08-27', '1995-04-07',\n",
       "       '1991-12-19', '1995-11-30', '1994-11-25', '2019-10-03',\n",
       "       '2012-02-24', '2002-10-25', '2015-02-12', '1960-10-28', '21-11-46',\n",
       "       '1968-12-21', '2015-10-11', '1988-11-17', '1937-03-12',\n",
       "       '2012-08-29', '2013-01-17', '2001-01-19', '2008-10-17',\n",
       "       '1980-12-22', '1981-06-12', '2018-04-25', '1979-10-25',\n",
       "       '2019-04-24', '1979-12-18', '2005-05-06', '1964-04-03',\n",
       "       '1955-04-14', '2017-12-28', '2007-04-06', '2018-12-25',\n",
       "       '2009-12-25', '1984-09-28', '1945-06-25',\n",
       "       'The 6th of marzo, year 1951', '2009-10-02', '2000-01-21',\n",
       "       '1995-12-01', '1983-10-21', '1992-10-09', '2004-10-22',\n",
       "       '1996-03-22', '1998-03-06', '2001-03-16', '2000-12-15',\n",
       "       '1972-09-07', '2010-07-07', '1984-02-34', '1976-13-24',\n",
       "       '2002-01-25', '1987-10-09', '1986-09-24', '1968-12-12',\n",
       "       '1948-11-25', '2020-01-23', '1985-02-15', '1958-11-18',\n",
       "       '1959-10-28', '2012-11-22', '1963-10-29', '1974-03-21',\n",
       "       '1982-03-18', '1965-12-20', '2011-10-21', '1953-02-05'],\n",
       "      dtype=object)"
      ]
     },
     "execution_count": 1097,
     "metadata": {},
     "output_type": "execute_result"
    }
   ],
   "execution_count": 1097
  },
  {
   "metadata": {
    "ExecuteTime": {
     "end_time": "2025-03-06T10:51:34.036168Z",
     "start_time": "2025-03-06T10:51:34.002684Z"
    }
   },
   "cell_type": "code",
   "source": [
    "movies[\"Release year\"] = movies[\"Release year\"].str.strip().str.replace(\"/\",\"-\").str.replace(\" \", \"-\").str.replace(\"--\", \"-\").str.replace(\"23rd-December-of-1966\", \"1966-12-23\").str.replace(\"The-6th-of-marzo,-year-1951\", \"1951-03-06\").str.replace(\"Feb\", \"02\")\n",
    "print(movies[\"Release year\"].unique())\n",
    "def parse_mixed_dates(date_str):\n",
    "    formats = [\"%Y-%m-%d\", \"%d-%m-%Y\", \"%m-%d-%Y\"]\n",
    "    \n",
    "    for fmt in formats:\n",
    "        try:\n",
    "            return pd.to_datetime(date_str, format=fmt)\n",
    "        except ValueError:\n",
    "            continue  # If parsing fails, try the next format\n",
    "    \n",
    "    return pd.NaT\n",
    "movies[\"Release year\"] = movies[\"Release year\"].apply(parse_mixed_dates)\n",
    "mode = movies[\"Release year\"].mode()[0]\n",
    "movies[\"Release year\"]=movies[\"Release year\"].fillna(mode)\n",
    "movies[\"Release year\"].value_counts()\n",
    "movies[\"Release year\"] = pd.to_datetime(movies[\"Release year\"]).dt.year\n",
    "movies.info()"
   ],
   "id": "21133e2fd5c0c021",
   "outputs": [
    {
     "name": "stdout",
     "output_type": "stream",
     "text": [
      "['1995-02-10' '09-21-1972' '23-07-2008' '1975-09-25' '1994-10-28'\n",
      " '22-02-04' '1994-03-11' '1957-09-04' '2010-09-24' '10-29-99' '1994-10-06'\n",
      " '2002-01-18' '1966-12-23' '1999-05-07' '01-16-03' '1980-09-19'\n",
      " '1990-09-20' '18-11-1976' '2014-11-06' '1995-12-15' '1991-03-05'\n",
      " '1977-10-20' '1998-10-30' '2000-10-03' '2003-05-09' '2003-04-18'\n",
      " '1997-12-20' '2019-11-07' '1948-03-11' '1955-08-19' '2000-05-19'\n",
      " '2006-10-27' '2006-12-22' '1985-10-18' '1999-08-27' '1995-04-07'\n",
      " '1991-12-19' '1995-11-30' '1994-11-25' '2019-10-03' '2012-02-24'\n",
      " '2002-10-25' '2015-02-12' '1960-10-28' '21-11-46' '1968-12-21'\n",
      " '2015-10-11' '1988-11-17' '1937-03-12' '2012-08-29' '2013-01-17'\n",
      " '2001-01-19' '2008-10-17' '1980-12-22' '1981-06-12' '2018-04-25'\n",
      " '1979-10-25' '2019-04-24' '1979-12-18' '2005-05-06' '1964-04-03'\n",
      " '1955-04-14' '2017-12-28' '2007-04-06' '2018-12-25' '2009-12-25'\n",
      " '1984-09-28' '1945-06-25' '1951-03-06' '2009-10-02' '2000-01-21'\n",
      " '1995-12-01' '1983-10-21' '1992-10-09' '2004-10-22' '1996-03-22'\n",
      " '1998-03-06' '2001-03-16' '2000-12-15' '1972-09-07' '2010-07-07'\n",
      " '1984-02-34' '1976-13-24' '2002-01-25' '1987-10-09' '1986-09-24'\n",
      " '1968-12-12' '1948-11-25' '2020-01-23' '1985-02-15' '1958-11-18'\n",
      " '1959-10-28' '2012-11-22' '1963-10-29' '1974-03-21' '1982-03-18'\n",
      " '1965-12-20' '2011-10-21' '1953-02-05']\n",
      "<class 'pandas.core.frame.DataFrame'>\n",
      "Index: 100 entries, 0 to 100\n",
      "Data columns (total 11 columns):\n",
      " #   Column          Non-Null Count  Dtype \n",
      "---  ------          --------------  ----- \n",
      " 0   IMBD title ID   100 non-null    object\n",
      " 1   Original title  100 non-null    object\n",
      " 2   Release year    100 non-null    int32 \n",
      " 3   Genre           100 non-null    object\n",
      " 4   Duration        100 non-null    int64 \n",
      " 5   Country         100 non-null    object\n",
      " 6   Content Rating  77 non-null     object\n",
      " 7   Director        100 non-null    object\n",
      " 8   Income          100 non-null    object\n",
      " 9   Votes           100 non-null    object\n",
      " 10  Score           100 non-null    object\n",
      "dtypes: int32(1), int64(1), object(9)\n",
      "memory usage: 9.0+ KB\n"
     ]
    }
   ],
   "execution_count": 1098
  },
  {
   "metadata": {
    "ExecuteTime": {
     "end_time": "2025-03-06T10:51:34.097941Z",
     "start_time": "2025-03-06T10:51:34.068178Z"
    }
   },
   "cell_type": "code",
   "source": [
    "movies[\"Genre\"].unique()\n",
    "# Split the 'Genre' column by comma\n",
    "split_genre = movies['Genre'].str.split(',', expand=True)\n",
    "\n",
    "unique_values = pd.unique(split_genre.values.ravel())\n",
    "unique_values = [val.strip() for val in unique_values if pd.notna(val)]\n",
    "print(unique_values)\n",
    "\n",
    "# Step 3: One-Hot Encoding (Create new columns for each unique value)\n",
    "for val in unique_values:\n",
    "    movies[val] = movies['Genre'].apply(lambda x: 1 if val in x else 0)\n",
    "\n",
    "# Display the updated DataFrame\n",
    "movies.drop(columns=['Genre'], inplace=True)\n",
    "movies.head()"
   ],
   "id": "8af7dea3bb0241a6",
   "outputs": [
    {
     "name": "stdout",
     "output_type": "stream",
     "text": [
      "['Drama', 'Crime', 'Drama', 'Action', 'Crime', 'Adventure', 'Biography', 'History', 'Sci-Fi', 'Romance', 'Western', 'Fantasy', 'Adventure', 'Mystery', 'Thriller', 'War', 'Animation', 'Family', 'Comedy', 'Comedy', 'Music', 'Horror', 'Western', 'Mystery', 'Horror', 'Action', 'Film-Noir', 'Biography', 'Musical']\n"
     ]
    },
    {
     "data": {
      "text/plain": [
       "  IMBD title ID            Original title  Release year  Duration Country  \\\n",
       "0     tt0111161  The Shawshank Redemption          1995       142     USA   \n",
       "1     tt0068646             The Godfather          1972       175     USA   \n",
       "2     tt0468569           The Dark Knight          2008       152      US   \n",
       "3     tt0071562    The Godfather: Part II          1975       220     USA   \n",
       "4     tt0110912              Pulp Fiction          1994       135     USA   \n",
       "\n",
       "  Content Rating              Director         Income      Votes Score  ...  \\\n",
       "0              R        Frank Darabont     $ 28815245  2.278.845   9.3  ...   \n",
       "1              R  Francis Ford Coppola    $ 246120974  1.572.674   9.2  ...   \n",
       "2          PG-13     Christopher Nolan   $ 1005455211  2.241.615    9.  ...   \n",
       "3              R  Francis Ford Coppola  $ 4o8,035,783  1.098.714  9,.0  ...   \n",
       "4              R     Quentin Tarantino    $ 222831817  1.780.147  8,9f  ...   \n",
       "\n",
       "   Mystery  Thriller  War  Animation  Family  Comedy  Music  Horror  \\\n",
       "0        0         0    0          0       0       0      0       0   \n",
       "1        0         0    0          0       0       0      0       0   \n",
       "2        0         0    0          0       0       0      0       0   \n",
       "3        0         0    0          0       0       0      0       0   \n",
       "4        0         0    0          0       0       0      0       0   \n",
       "\n",
       "   Film-Noir  Musical  \n",
       "0          0        0  \n",
       "1          0        0  \n",
       "2          0        0  \n",
       "3          0        0  \n",
       "4          0        0  \n",
       "\n",
       "[5 rows x 30 columns]"
      ],
      "text/html": [
       "<div>\n",
       "<style scoped>\n",
       "    .dataframe tbody tr th:only-of-type {\n",
       "        vertical-align: middle;\n",
       "    }\n",
       "\n",
       "    .dataframe tbody tr th {\n",
       "        vertical-align: top;\n",
       "    }\n",
       "\n",
       "    .dataframe thead th {\n",
       "        text-align: right;\n",
       "    }\n",
       "</style>\n",
       "<table border=\"1\" class=\"dataframe\">\n",
       "  <thead>\n",
       "    <tr style=\"text-align: right;\">\n",
       "      <th></th>\n",
       "      <th>IMBD title ID</th>\n",
       "      <th>Original title</th>\n",
       "      <th>Release year</th>\n",
       "      <th>Duration</th>\n",
       "      <th>Country</th>\n",
       "      <th>Content Rating</th>\n",
       "      <th>Director</th>\n",
       "      <th>Income</th>\n",
       "      <th>Votes</th>\n",
       "      <th>Score</th>\n",
       "      <th>...</th>\n",
       "      <th>Mystery</th>\n",
       "      <th>Thriller</th>\n",
       "      <th>War</th>\n",
       "      <th>Animation</th>\n",
       "      <th>Family</th>\n",
       "      <th>Comedy</th>\n",
       "      <th>Music</th>\n",
       "      <th>Horror</th>\n",
       "      <th>Film-Noir</th>\n",
       "      <th>Musical</th>\n",
       "    </tr>\n",
       "  </thead>\n",
       "  <tbody>\n",
       "    <tr>\n",
       "      <th>0</th>\n",
       "      <td>tt0111161</td>\n",
       "      <td>The Shawshank Redemption</td>\n",
       "      <td>1995</td>\n",
       "      <td>142</td>\n",
       "      <td>USA</td>\n",
       "      <td>R</td>\n",
       "      <td>Frank Darabont</td>\n",
       "      <td>$ 28815245</td>\n",
       "      <td>2.278.845</td>\n",
       "      <td>9.3</td>\n",
       "      <td>...</td>\n",
       "      <td>0</td>\n",
       "      <td>0</td>\n",
       "      <td>0</td>\n",
       "      <td>0</td>\n",
       "      <td>0</td>\n",
       "      <td>0</td>\n",
       "      <td>0</td>\n",
       "      <td>0</td>\n",
       "      <td>0</td>\n",
       "      <td>0</td>\n",
       "    </tr>\n",
       "    <tr>\n",
       "      <th>1</th>\n",
       "      <td>tt0068646</td>\n",
       "      <td>The Godfather</td>\n",
       "      <td>1972</td>\n",
       "      <td>175</td>\n",
       "      <td>USA</td>\n",
       "      <td>R</td>\n",
       "      <td>Francis Ford Coppola</td>\n",
       "      <td>$ 246120974</td>\n",
       "      <td>1.572.674</td>\n",
       "      <td>9.2</td>\n",
       "      <td>...</td>\n",
       "      <td>0</td>\n",
       "      <td>0</td>\n",
       "      <td>0</td>\n",
       "      <td>0</td>\n",
       "      <td>0</td>\n",
       "      <td>0</td>\n",
       "      <td>0</td>\n",
       "      <td>0</td>\n",
       "      <td>0</td>\n",
       "      <td>0</td>\n",
       "    </tr>\n",
       "    <tr>\n",
       "      <th>2</th>\n",
       "      <td>tt0468569</td>\n",
       "      <td>The Dark Knight</td>\n",
       "      <td>2008</td>\n",
       "      <td>152</td>\n",
       "      <td>US</td>\n",
       "      <td>PG-13</td>\n",
       "      <td>Christopher Nolan</td>\n",
       "      <td>$ 1005455211</td>\n",
       "      <td>2.241.615</td>\n",
       "      <td>9.</td>\n",
       "      <td>...</td>\n",
       "      <td>0</td>\n",
       "      <td>0</td>\n",
       "      <td>0</td>\n",
       "      <td>0</td>\n",
       "      <td>0</td>\n",
       "      <td>0</td>\n",
       "      <td>0</td>\n",
       "      <td>0</td>\n",
       "      <td>0</td>\n",
       "      <td>0</td>\n",
       "    </tr>\n",
       "    <tr>\n",
       "      <th>3</th>\n",
       "      <td>tt0071562</td>\n",
       "      <td>The Godfather: Part II</td>\n",
       "      <td>1975</td>\n",
       "      <td>220</td>\n",
       "      <td>USA</td>\n",
       "      <td>R</td>\n",
       "      <td>Francis Ford Coppola</td>\n",
       "      <td>$ 4o8,035,783</td>\n",
       "      <td>1.098.714</td>\n",
       "      <td>9,.0</td>\n",
       "      <td>...</td>\n",
       "      <td>0</td>\n",
       "      <td>0</td>\n",
       "      <td>0</td>\n",
       "      <td>0</td>\n",
       "      <td>0</td>\n",
       "      <td>0</td>\n",
       "      <td>0</td>\n",
       "      <td>0</td>\n",
       "      <td>0</td>\n",
       "      <td>0</td>\n",
       "    </tr>\n",
       "    <tr>\n",
       "      <th>4</th>\n",
       "      <td>tt0110912</td>\n",
       "      <td>Pulp Fiction</td>\n",
       "      <td>1994</td>\n",
       "      <td>135</td>\n",
       "      <td>USA</td>\n",
       "      <td>R</td>\n",
       "      <td>Quentin Tarantino</td>\n",
       "      <td>$ 222831817</td>\n",
       "      <td>1.780.147</td>\n",
       "      <td>8,9f</td>\n",
       "      <td>...</td>\n",
       "      <td>0</td>\n",
       "      <td>0</td>\n",
       "      <td>0</td>\n",
       "      <td>0</td>\n",
       "      <td>0</td>\n",
       "      <td>0</td>\n",
       "      <td>0</td>\n",
       "      <td>0</td>\n",
       "      <td>0</td>\n",
       "      <td>0</td>\n",
       "    </tr>\n",
       "  </tbody>\n",
       "</table>\n",
       "<p>5 rows × 30 columns</p>\n",
       "</div>"
      ]
     },
     "execution_count": 1099,
     "metadata": {},
     "output_type": "execute_result"
    }
   ],
   "execution_count": 1099
  },
  {
   "metadata": {
    "ExecuteTime": {
     "end_time": "2025-03-06T10:51:33.865890Z",
     "start_time": "2025-03-06T10:51:33.856971Z"
    }
   },
   "cell_type": "code",
   "outputs": [
    {
     "data": {
      "text/plain": [
       "array([142, 175, 152, 220, 135, 201,  96, 148, 178, 161, 179, 146, 169,\n",
       "       127, 118, 121, 189, 130, 125, 116, 132, 207, 155, 151, 119, 110,\n",
       "       137, 106,  88, 122, 112, 150, 109, 102, 165,  89,  87, 164, 113,\n",
       "        98, 115, 149, 117, 181, 147, 120,  95, 105, 170, 134, 229, 153,\n",
       "       131,  99, 108,  81, 126, 104, 136, 103, 114, 160, 128, 228, 129,\n",
       "       123])"
      ]
     },
     "execution_count": 1096,
     "metadata": {},
     "output_type": "execute_result"
    }
   ],
   "execution_count": 1096,
   "source": [
    "movies[\"Duration\"].unique()\n",
    "movies[\"Duration\"] = movies[\"Duration\"].str.strip(\" c-InfNot Applicable\")\n",
    "movies[\"Duration\"].unique()\n",
    "movies.loc[movies[\"Duration\"].isin([\"\"]), \"Duration\"] = np.nan\n",
    "movies[\"Duration\"].unique()\n",
    "movies[\"Duration\"] = movies[\"Duration\"].astype(float)\n",
    "movies[\"Duration\"]=movies[\"Duration\"].fillna(movies[\"Duration\"].mean().round(0))\n",
    "movies[\"Duration\"] = movies[\"Duration\"].astype(int)\n",
    "movies[\"Duration\"].unique()"
   ],
   "id": "50c0c474ebe9e408"
  },
  {
   "metadata": {
    "ExecuteTime": {
     "end_time": "2025-03-06T10:51:34.187583Z",
     "start_time": "2025-03-06T10:51:34.169998Z"
    }
   },
   "cell_type": "code",
   "source": [
    "movies.loc[movies[\"Country\"].str.contains(\"US\"), \"Country\"] = \"USA\"\n",
    "movies.loc[movies[\"Country\"].str.contains(\"Germany\"), \"Country\"] = \"Germany\"\n",
    "movies.loc[movies[\"Country\"].str.contains(\"New Z\"), \"Country\"] = \"New Zealand\"\n",
    "movies.loc[movies[\"Country\"].str.contains(\"Italy\"), \"Country\"] = \"Italy\"\n",
    "movies[\"Country\"].unique()"
   ],
   "id": "b144d6b38bfb6ecc",
   "outputs": [
    {
     "data": {
      "text/plain": [
       "array(['USA', 'New Zealand', 'UK', 'Italy', 'Brazil', 'Japan',\n",
       "       'South Korea', 'France', 'Germany', 'India', 'Denmark', 'Iran'],\n",
       "      dtype=object)"
      ]
     },
     "execution_count": 1100,
     "metadata": {},
     "output_type": "execute_result"
    }
   ],
   "execution_count": 1100
  },
  {
   "metadata": {
    "ExecuteTime": {
     "end_time": "2025-03-06T10:51:34.297239Z",
     "start_time": "2025-03-06T10:51:34.277032Z"
    }
   },
   "cell_type": "code",
   "source": [
    "movies[\"Content Rating\"].unique()\n",
    "movies[\"Content Rating\"] = movies[\"Content Rating\"].fillna(\"Not Rated\")\n",
    "movies.loc[movies[\"Content Rating\"].str.contains(\"Not Rated|Approved|Unrated\"), \"Content Rating\"] = \"Not Rated\"\n",
    "movies[\"Content Rating\"] = movies[\"Content Rating\"].astype(\"category\")\n",
    "movies[\"Content Rating\"] = movies[\"Content Rating\"].cat.set_categories(new_categories=[\"Not Rated\", \"G\", \"PG\", \"PG-13\", \"R\"], ordered=True)\n",
    "movies[\"Content Rating\"].value_counts()"
   ],
   "id": "abf3e039a9a462b7",
   "outputs": [
    {
     "data": {
      "text/plain": [
       "Content Rating\n",
       "R            45\n",
       "Not Rated    26\n",
       "PG-13        12\n",
       "PG           11\n",
       "G             6\n",
       "Name: count, dtype: int64"
      ]
     },
     "execution_count": 1101,
     "metadata": {},
     "output_type": "execute_result"
    }
   ],
   "execution_count": 1101
  },
  {
   "metadata": {
    "ExecuteTime": {
     "end_time": "2025-03-06T10:51:34.415906Z",
     "start_time": "2025-03-06T10:51:34.408436Z"
    }
   },
   "cell_type": "code",
   "source": [
    "movies[\"Income\"].unique()\n",
    "movies[\"Income\"]=movies[\"Income\"].str.strip(\"$ \").str.replace(\",\",\"\").str.replace(\"o\",\"0\").astype(int)\n",
    "movies[\"Income\"].unique()"
   ],
   "id": "5c9657ca3e6d777a",
   "outputs": [
    {
     "data": {
      "text/plain": [
       "array([  28815245,  246120974, 1005455211,  408035783,  222831817,\n",
       "       1142271098,  322287794,        576,  869784991,  101218804,\n",
       "        678229452,  887934303,   25252481,  465718588,  951227416,\n",
       "        549265501,   46879633,  108997629,  696742056,  327333559,\n",
       "        272753884,  775768912,  482349603,  286801374,   30680793,\n",
       "        355467056,  230098753,  257604912,    6130720,     322773,\n",
       "        465361176,  291465034,  109676311,  388774684,   23875127,\n",
       "         19552639,  520884847,   23341568,  968511805, 1074251311,\n",
       "        426588510,  120072577,   48983260,   32008644,    4374761,\n",
       "           112911,     516962,   13826605,     457688, 1081133191,\n",
       "        425368238,   39970386,  521311860,   46520613,  390133212,\n",
       "       2048359754,  108110316, 2797800564,   91968688,   15002116,\n",
       "          9443876,   37032034,  807083670,   77356942,  375540831,\n",
       "         60262836,  169785629,    5472914,     969879,     299645,\n",
       "        321455689,  356296601,  213216216,  475347111,    2889963,\n",
       "         74036715,  404265438,  225933435,   83557872,    7390108,\n",
       "         26903440, 1066969703,   66023585,   28441292,  173924742,\n",
       "         46357676,  131384634,   68989547,    1594107,  384857224,\n",
       "         52066791,    7796389,      73446,   15843274,   45710874,\n",
       "        156000000,   11487676,   15000000,   22926076,    1864182])"
      ]
     },
     "execution_count": 1102,
     "metadata": {},
     "output_type": "execute_result"
    }
   ],
   "execution_count": 1102
  },
  {
   "metadata": {
    "ExecuteTime": {
     "end_time": "2025-03-06T10:51:34.493811Z",
     "start_time": "2025-03-06T10:51:34.482863Z"
    }
   },
   "cell_type": "code",
   "source": [
    "movies[\"Votes\"].unique()\n",
    "movies[\"Votes\"]=movies[\"Votes\"].str.replace(\".\",\"\").astype(int)\n",
    "movies[\"Votes\"].unique()"
   ],
   "id": "f584c498df2eca8d",
   "outputs": [
    {
     "data": {
      "text/plain": [
       "array([2278845, 1572674, 2241615, 1098714, 1780147, 1604280, 1183248,\n",
       "        668473, 2002816, 1807440, 1755490, 1619920,  672499, 1632315,\n",
       "       1449778, 1132073,  991505,  891071, 1449256, 1402015, 1234134,\n",
       "       1204107, 1203825, 1112336,  685856,  626693,  605648,  470931,\n",
       "        388310,  307958, 1308193, 1159703, 1155723, 1027330, 1014218,\n",
       "       1007598,  974970,  968947,  917248,  855097,  736691,  707942,\n",
       "        690732,  586765,  509953,  295220,  225438,  223050,  211250,\n",
       "       1480582, 1317856, 1098879,  974734,  869480,  865510,  796486,\n",
       "        768874,  754786,  591251,  501082,  441115,  432390,  352455,\n",
       "        349642,  335892,  332217,  331045,  302317,  197381,  195789,\n",
       "       1229958, 1049009,  941683,  928036,  896551,  889875,  864461,\n",
       "        837379,  766589,  748291,  740301,  739717,  721343,  703264,\n",
       "        690480,  658175,  639500,  587866,  389322,  362897,  361028,\n",
       "        352786,  291628,  269616,  261504,  236285,  226427,  226039,\n",
       "        214165,  213152])"
      ]
     },
     "execution_count": 1103,
     "metadata": {},
     "output_type": "execute_result"
    }
   ],
   "execution_count": 1103
  },
  {
   "metadata": {
    "ExecuteTime": {
     "end_time": "2025-03-06T10:51:34.569704Z",
     "start_time": "2025-03-06T10:51:34.560394Z"
    }
   },
   "cell_type": "code",
   "source": [
    "movies[\"Score\"].unique()\n",
    "movies[\"Score\"]=movies[\"Score\"].str.strip(\"0.e-0++f\").str.replace(\",\",\".\").str.replace(\":\",\".\")\n",
    "movies.loc[movies[\"Score\"].str.contains(\"9.\"), \"Score\"] = \"9.0\"\n",
    "movies.loc[movies[\"Score\"].str.contains(\"8..8\"), \"Score\"] = \"8.8\"\n",
    "movies[\"Score\"]=movies[\"Score\"].astype(float)\n",
    "movies[\"Score\"].unique()"
   ],
   "id": "ab56d84f82bf6d11",
   "outputs": [
    {
     "data": {
      "text/plain": [
       "array([9. , 8.9, 8.8, 8.7, 8.6, 8.5, 8.4, 8.3, 8.2, 8.1, 8. , 7.9, 7.8,\n",
       "       7.7, 7.6, 7.5, 7.4])"
      ]
     },
     "execution_count": 1104,
     "metadata": {},
     "output_type": "execute_result"
    }
   ],
   "execution_count": 1104
  },
  {
   "metadata": {
    "ExecuteTime": {
     "end_time": "2025-03-06T10:51:34.597320Z",
     "start_time": "2025-03-06T10:51:34.576486Z"
    }
   },
   "cell_type": "code",
   "source": "movies.info()",
   "id": "c092aea73b624591",
   "outputs": [
    {
     "name": "stdout",
     "output_type": "stream",
     "text": [
      "<class 'pandas.core.frame.DataFrame'>\n",
      "Index: 100 entries, 0 to 100\n",
      "Data columns (total 30 columns):\n",
      " #   Column          Non-Null Count  Dtype   \n",
      "---  ------          --------------  -----   \n",
      " 0   IMBD title ID   100 non-null    object  \n",
      " 1   Original title  100 non-null    object  \n",
      " 2   Release year    100 non-null    int32   \n",
      " 3   Duration        100 non-null    int64   \n",
      " 4   Country         100 non-null    object  \n",
      " 5   Content Rating  100 non-null    category\n",
      " 6   Director        100 non-null    object  \n",
      " 7   Income          100 non-null    int64   \n",
      " 8   Votes           100 non-null    int64   \n",
      " 9   Score           100 non-null    float64 \n",
      " 10  Drama           100 non-null    int64   \n",
      " 11  Crime           100 non-null    int64   \n",
      " 12  Action          100 non-null    int64   \n",
      " 13  Adventure       100 non-null    int64   \n",
      " 14  Biography       100 non-null    int64   \n",
      " 15  History         100 non-null    int64   \n",
      " 16  Sci-Fi          100 non-null    int64   \n",
      " 17  Romance         100 non-null    int64   \n",
      " 18  Western         100 non-null    int64   \n",
      " 19  Fantasy         100 non-null    int64   \n",
      " 20  Mystery         100 non-null    int64   \n",
      " 21  Thriller        100 non-null    int64   \n",
      " 22  War             100 non-null    int64   \n",
      " 23  Animation       100 non-null    int64   \n",
      " 24  Family          100 non-null    int64   \n",
      " 25  Comedy          100 non-null    int64   \n",
      " 26  Music           100 non-null    int64   \n",
      " 27  Horror          100 non-null    int64   \n",
      " 28  Film-Noir       100 non-null    int64   \n",
      " 29  Musical         100 non-null    int64   \n",
      "dtypes: category(1), float64(1), int32(1), int64(23), object(4)\n",
      "memory usage: 23.4+ KB\n"
     ]
    }
   ],
   "execution_count": 1105
  },
  {
   "metadata": {
    "ExecuteTime": {
     "end_time": "2025-03-06T10:51:34.648490Z",
     "start_time": "2025-03-06T10:51:34.629338Z"
    }
   },
   "cell_type": "code",
   "source": "movies.head()",
   "id": "c6ff2de7552feca3",
   "outputs": [
    {
     "data": {
      "text/plain": [
       "  IMBD title ID            Original title  Release year  Duration Country  \\\n",
       "0     tt0111161  The Shawshank Redemption          1995       142     USA   \n",
       "1     tt0068646             The Godfather          1972       175     USA   \n",
       "2     tt0468569           The Dark Knight          2008       152     USA   \n",
       "3     tt0071562    The Godfather: Part II          1975       220     USA   \n",
       "4     tt0110912              Pulp Fiction          1994       135     USA   \n",
       "\n",
       "  Content Rating              Director      Income    Votes  Score  ...  \\\n",
       "0              R        Frank Darabont    28815245  2278845    9.0  ...   \n",
       "1              R  Francis Ford Coppola   246120974  1572674    9.0  ...   \n",
       "2          PG-13     Christopher Nolan  1005455211  2241615    9.0  ...   \n",
       "3              R  Francis Ford Coppola   408035783  1098714    9.0  ...   \n",
       "4              R     Quentin Tarantino   222831817  1780147    8.9  ...   \n",
       "\n",
       "   Mystery  Thriller  War  Animation  Family  Comedy  Music  Horror  \\\n",
       "0        0         0    0          0       0       0      0       0   \n",
       "1        0         0    0          0       0       0      0       0   \n",
       "2        0         0    0          0       0       0      0       0   \n",
       "3        0         0    0          0       0       0      0       0   \n",
       "4        0         0    0          0       0       0      0       0   \n",
       "\n",
       "   Film-Noir  Musical  \n",
       "0          0        0  \n",
       "1          0        0  \n",
       "2          0        0  \n",
       "3          0        0  \n",
       "4          0        0  \n",
       "\n",
       "[5 rows x 30 columns]"
      ],
      "text/html": [
       "<div>\n",
       "<style scoped>\n",
       "    .dataframe tbody tr th:only-of-type {\n",
       "        vertical-align: middle;\n",
       "    }\n",
       "\n",
       "    .dataframe tbody tr th {\n",
       "        vertical-align: top;\n",
       "    }\n",
       "\n",
       "    .dataframe thead th {\n",
       "        text-align: right;\n",
       "    }\n",
       "</style>\n",
       "<table border=\"1\" class=\"dataframe\">\n",
       "  <thead>\n",
       "    <tr style=\"text-align: right;\">\n",
       "      <th></th>\n",
       "      <th>IMBD title ID</th>\n",
       "      <th>Original title</th>\n",
       "      <th>Release year</th>\n",
       "      <th>Duration</th>\n",
       "      <th>Country</th>\n",
       "      <th>Content Rating</th>\n",
       "      <th>Director</th>\n",
       "      <th>Income</th>\n",
       "      <th>Votes</th>\n",
       "      <th>Score</th>\n",
       "      <th>...</th>\n",
       "      <th>Mystery</th>\n",
       "      <th>Thriller</th>\n",
       "      <th>War</th>\n",
       "      <th>Animation</th>\n",
       "      <th>Family</th>\n",
       "      <th>Comedy</th>\n",
       "      <th>Music</th>\n",
       "      <th>Horror</th>\n",
       "      <th>Film-Noir</th>\n",
       "      <th>Musical</th>\n",
       "    </tr>\n",
       "  </thead>\n",
       "  <tbody>\n",
       "    <tr>\n",
       "      <th>0</th>\n",
       "      <td>tt0111161</td>\n",
       "      <td>The Shawshank Redemption</td>\n",
       "      <td>1995</td>\n",
       "      <td>142</td>\n",
       "      <td>USA</td>\n",
       "      <td>R</td>\n",
       "      <td>Frank Darabont</td>\n",
       "      <td>28815245</td>\n",
       "      <td>2278845</td>\n",
       "      <td>9.0</td>\n",
       "      <td>...</td>\n",
       "      <td>0</td>\n",
       "      <td>0</td>\n",
       "      <td>0</td>\n",
       "      <td>0</td>\n",
       "      <td>0</td>\n",
       "      <td>0</td>\n",
       "      <td>0</td>\n",
       "      <td>0</td>\n",
       "      <td>0</td>\n",
       "      <td>0</td>\n",
       "    </tr>\n",
       "    <tr>\n",
       "      <th>1</th>\n",
       "      <td>tt0068646</td>\n",
       "      <td>The Godfather</td>\n",
       "      <td>1972</td>\n",
       "      <td>175</td>\n",
       "      <td>USA</td>\n",
       "      <td>R</td>\n",
       "      <td>Francis Ford Coppola</td>\n",
       "      <td>246120974</td>\n",
       "      <td>1572674</td>\n",
       "      <td>9.0</td>\n",
       "      <td>...</td>\n",
       "      <td>0</td>\n",
       "      <td>0</td>\n",
       "      <td>0</td>\n",
       "      <td>0</td>\n",
       "      <td>0</td>\n",
       "      <td>0</td>\n",
       "      <td>0</td>\n",
       "      <td>0</td>\n",
       "      <td>0</td>\n",
       "      <td>0</td>\n",
       "    </tr>\n",
       "    <tr>\n",
       "      <th>2</th>\n",
       "      <td>tt0468569</td>\n",
       "      <td>The Dark Knight</td>\n",
       "      <td>2008</td>\n",
       "      <td>152</td>\n",
       "      <td>USA</td>\n",
       "      <td>PG-13</td>\n",
       "      <td>Christopher Nolan</td>\n",
       "      <td>1005455211</td>\n",
       "      <td>2241615</td>\n",
       "      <td>9.0</td>\n",
       "      <td>...</td>\n",
       "      <td>0</td>\n",
       "      <td>0</td>\n",
       "      <td>0</td>\n",
       "      <td>0</td>\n",
       "      <td>0</td>\n",
       "      <td>0</td>\n",
       "      <td>0</td>\n",
       "      <td>0</td>\n",
       "      <td>0</td>\n",
       "      <td>0</td>\n",
       "    </tr>\n",
       "    <tr>\n",
       "      <th>3</th>\n",
       "      <td>tt0071562</td>\n",
       "      <td>The Godfather: Part II</td>\n",
       "      <td>1975</td>\n",
       "      <td>220</td>\n",
       "      <td>USA</td>\n",
       "      <td>R</td>\n",
       "      <td>Francis Ford Coppola</td>\n",
       "      <td>408035783</td>\n",
       "      <td>1098714</td>\n",
       "      <td>9.0</td>\n",
       "      <td>...</td>\n",
       "      <td>0</td>\n",
       "      <td>0</td>\n",
       "      <td>0</td>\n",
       "      <td>0</td>\n",
       "      <td>0</td>\n",
       "      <td>0</td>\n",
       "      <td>0</td>\n",
       "      <td>0</td>\n",
       "      <td>0</td>\n",
       "      <td>0</td>\n",
       "    </tr>\n",
       "    <tr>\n",
       "      <th>4</th>\n",
       "      <td>tt0110912</td>\n",
       "      <td>Pulp Fiction</td>\n",
       "      <td>1994</td>\n",
       "      <td>135</td>\n",
       "      <td>USA</td>\n",
       "      <td>R</td>\n",
       "      <td>Quentin Tarantino</td>\n",
       "      <td>222831817</td>\n",
       "      <td>1780147</td>\n",
       "      <td>8.9</td>\n",
       "      <td>...</td>\n",
       "      <td>0</td>\n",
       "      <td>0</td>\n",
       "      <td>0</td>\n",
       "      <td>0</td>\n",
       "      <td>0</td>\n",
       "      <td>0</td>\n",
       "      <td>0</td>\n",
       "      <td>0</td>\n",
       "      <td>0</td>\n",
       "      <td>0</td>\n",
       "    </tr>\n",
       "  </tbody>\n",
       "</table>\n",
       "<p>5 rows × 30 columns</p>\n",
       "</div>"
      ]
     },
     "execution_count": 1106,
     "metadata": {},
     "output_type": "execute_result"
    }
   ],
   "execution_count": 1106
  }
 ],
 "metadata": {
  "kernelspec": {
   "display_name": "Python 3",
   "language": "python",
   "name": "python3"
  },
  "language_info": {
   "codemirror_mode": {
    "name": "ipython",
    "version": 2
   },
   "file_extension": ".py",
   "mimetype": "text/x-python",
   "name": "python",
   "nbconvert_exporter": "python",
   "pygments_lexer": "ipython2",
   "version": "2.7.6"
  }
 },
 "nbformat": 4,
 "nbformat_minor": 5
}
