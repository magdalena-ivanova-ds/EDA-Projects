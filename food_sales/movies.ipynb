{
 "cells": [
  {
   "cell_type": "code",
   "id": "initial_id",
   "metadata": {
    "collapsed": true,
    "ExecuteTime": {
     "end_time": "2025-03-06T14:40:07.572350Z",
     "start_time": "2025-03-06T14:40:07.562190Z"
    }
   },
   "source": [
    "import pandas as pd\n",
    "import numpy as np\n",
    "import matplotlib.pyplot as plt\n",
    "import seaborn as sns"
   ],
   "outputs": [],
   "execution_count": 1442
  },
  {
   "metadata": {},
   "cell_type": "markdown",
   "source": "## Data loading and exploring",
   "id": "76bf9627f56bf84b"
  },
  {
   "metadata": {
    "ExecuteTime": {
     "end_time": "2025-03-06T14:40:07.620439Z",
     "start_time": "2025-03-06T14:40:07.600638Z"
    }
   },
   "cell_type": "code",
   "source": [
    "movies = pd.read_csv('IMDB_dataset.csv', encoding='utf-16', encoding_errors='ignore', delimiter=\";\")\n",
    "movies.head()"
   ],
   "id": "ec373515922cfcf8",
   "outputs": [
    {
     "data": {
      "text/plain": [
       "  IMBD title ID            Original title  Release year                 Genre  \\\n",
       "0     tt0111161  The Shawshank Redemption    1995-02-10                 Drama   \n",
       "1     tt0068646             The Godfather    09 21 1972          Crime, Drama   \n",
       "2     tt0468569           The Dark Knight   23 -07-2008  Action, Crime, Drama   \n",
       "3     tt0071562    The Godfather: Part II    1975-09-25          Crime, Drama   \n",
       "4     tt0110912              Pulp Fiction    1994-10-28          Crime, Drama   \n",
       "\n",
       "  Duration Country Content Rating              Director  Unnamed: 8  \\\n",
       "0      142     USA              R        Frank Darabont         NaN   \n",
       "1      175     USA              R  Francis Ford Coppola         NaN   \n",
       "2      152      US          PG-13     Christopher Nolan         NaN   \n",
       "3      220     USA              R  Francis Ford Coppola         NaN   \n",
       "4              USA              R     Quentin Tarantino         NaN   \n",
       "\n",
       "          Income      Votes Score  \n",
       "0     $ 28815245  2.278.845   9.3  \n",
       "1    $ 246120974  1.572.674   9.2  \n",
       "2   $ 1005455211  2.241.615    9.  \n",
       "3  $ 4o8,035,783  1.098.714  9,.0  \n",
       "4    $ 222831817  1.780.147  8,9f  "
      ],
      "text/html": [
       "<div>\n",
       "<style scoped>\n",
       "    .dataframe tbody tr th:only-of-type {\n",
       "        vertical-align: middle;\n",
       "    }\n",
       "\n",
       "    .dataframe tbody tr th {\n",
       "        vertical-align: top;\n",
       "    }\n",
       "\n",
       "    .dataframe thead th {\n",
       "        text-align: right;\n",
       "    }\n",
       "</style>\n",
       "<table border=\"1\" class=\"dataframe\">\n",
       "  <thead>\n",
       "    <tr style=\"text-align: right;\">\n",
       "      <th></th>\n",
       "      <th>IMBD title ID</th>\n",
       "      <th>Original title</th>\n",
       "      <th>Release year</th>\n",
       "      <th>Genre</th>\n",
       "      <th>Duration</th>\n",
       "      <th>Country</th>\n",
       "      <th>Content Rating</th>\n",
       "      <th>Director</th>\n",
       "      <th>Unnamed: 8</th>\n",
       "      <th>Income</th>\n",
       "      <th>Votes</th>\n",
       "      <th>Score</th>\n",
       "    </tr>\n",
       "  </thead>\n",
       "  <tbody>\n",
       "    <tr>\n",
       "      <th>0</th>\n",
       "      <td>tt0111161</td>\n",
       "      <td>The Shawshank Redemption</td>\n",
       "      <td>1995-02-10</td>\n",
       "      <td>Drama</td>\n",
       "      <td>142</td>\n",
       "      <td>USA</td>\n",
       "      <td>R</td>\n",
       "      <td>Frank Darabont</td>\n",
       "      <td>NaN</td>\n",
       "      <td>$ 28815245</td>\n",
       "      <td>2.278.845</td>\n",
       "      <td>9.3</td>\n",
       "    </tr>\n",
       "    <tr>\n",
       "      <th>1</th>\n",
       "      <td>tt0068646</td>\n",
       "      <td>The Godfather</td>\n",
       "      <td>09 21 1972</td>\n",
       "      <td>Crime, Drama</td>\n",
       "      <td>175</td>\n",
       "      <td>USA</td>\n",
       "      <td>R</td>\n",
       "      <td>Francis Ford Coppola</td>\n",
       "      <td>NaN</td>\n",
       "      <td>$ 246120974</td>\n",
       "      <td>1.572.674</td>\n",
       "      <td>9.2</td>\n",
       "    </tr>\n",
       "    <tr>\n",
       "      <th>2</th>\n",
       "      <td>tt0468569</td>\n",
       "      <td>The Dark Knight</td>\n",
       "      <td>23 -07-2008</td>\n",
       "      <td>Action, Crime, Drama</td>\n",
       "      <td>152</td>\n",
       "      <td>US</td>\n",
       "      <td>PG-13</td>\n",
       "      <td>Christopher Nolan</td>\n",
       "      <td>NaN</td>\n",
       "      <td>$ 1005455211</td>\n",
       "      <td>2.241.615</td>\n",
       "      <td>9.</td>\n",
       "    </tr>\n",
       "    <tr>\n",
       "      <th>3</th>\n",
       "      <td>tt0071562</td>\n",
       "      <td>The Godfather: Part II</td>\n",
       "      <td>1975-09-25</td>\n",
       "      <td>Crime, Drama</td>\n",
       "      <td>220</td>\n",
       "      <td>USA</td>\n",
       "      <td>R</td>\n",
       "      <td>Francis Ford Coppola</td>\n",
       "      <td>NaN</td>\n",
       "      <td>$ 4o8,035,783</td>\n",
       "      <td>1.098.714</td>\n",
       "      <td>9,.0</td>\n",
       "    </tr>\n",
       "    <tr>\n",
       "      <th>4</th>\n",
       "      <td>tt0110912</td>\n",
       "      <td>Pulp Fiction</td>\n",
       "      <td>1994-10-28</td>\n",
       "      <td>Crime, Drama</td>\n",
       "      <td></td>\n",
       "      <td>USA</td>\n",
       "      <td>R</td>\n",
       "      <td>Quentin Tarantino</td>\n",
       "      <td>NaN</td>\n",
       "      <td>$ 222831817</td>\n",
       "      <td>1.780.147</td>\n",
       "      <td>8,9f</td>\n",
       "    </tr>\n",
       "  </tbody>\n",
       "</table>\n",
       "</div>"
      ]
     },
     "execution_count": 1443,
     "metadata": {},
     "output_type": "execute_result"
    }
   ],
   "execution_count": 1443
  },
  {
   "metadata": {
    "ExecuteTime": {
     "end_time": "2025-03-06T14:40:07.942520Z",
     "start_time": "2025-03-06T14:40:07.933648Z"
    }
   },
   "cell_type": "code",
   "source": "movies[movies.duplicated()].count() #no duplicates",
   "id": "7930438f0660d3ca",
   "outputs": [
    {
     "data": {
      "text/plain": [
       "IMBD title ID     0\n",
       "Original title    0\n",
       "Release year      0\n",
       "Genre             0\n",
       "Duration          0\n",
       "Country           0\n",
       "Content Rating    0\n",
       "Director          0\n",
       "Unnamed: 8        0\n",
       "Income            0\n",
       "Votes             0\n",
       "Score             0\n",
       "dtype: int64"
      ]
     },
     "execution_count": 1444,
     "metadata": {},
     "output_type": "execute_result"
    }
   ],
   "execution_count": 1444
  },
  {
   "metadata": {
    "ExecuteTime": {
     "end_time": "2025-03-06T14:40:08.090556Z",
     "start_time": "2025-03-06T14:40:08.080442Z"
    }
   },
   "cell_type": "code",
   "source": "movies.info()",
   "id": "fbf243d23c252d5d",
   "outputs": [
    {
     "name": "stdout",
     "output_type": "stream",
     "text": [
      "<class 'pandas.core.frame.DataFrame'>\n",
      "RangeIndex: 101 entries, 0 to 100\n",
      "Data columns (total 12 columns):\n",
      " #   Column          Non-Null Count  Dtype  \n",
      "---  ------          --------------  -----  \n",
      " 0   IMBD title ID   100 non-null    object \n",
      " 1   Original title  100 non-null    object \n",
      " 2   Release year    100 non-null    object \n",
      " 3   Genre           100 non-null    object \n",
      " 4   Duration        99 non-null     object \n",
      " 5   Country         100 non-null    object \n",
      " 6   Content Rating  77 non-null     object \n",
      " 7   Director        100 non-null    object \n",
      " 8   Unnamed: 8      0 non-null      float64\n",
      " 9   Income          100 non-null    object \n",
      " 10  Votes           100 non-null    object \n",
      " 11  Score           100 non-null    object \n",
      "dtypes: float64(1), object(11)\n",
      "memory usage: 9.6+ KB\n"
     ]
    }
   ],
   "execution_count": 1445
  },
  {
   "metadata": {},
   "cell_type": "markdown",
   "source": "## Data cleaning",
   "id": "870a9449e3d482c9"
  },
  {
   "metadata": {
    "ExecuteTime": {
     "end_time": "2025-03-06T14:40:08.284415Z",
     "start_time": "2025-03-06T14:40:08.270640Z"
    }
   },
   "cell_type": "code",
   "source": [
    "movies.drop(columns=['Unnamed: 8'], inplace=True) #drop empty column\n",
    "movies.dropna(subset=[\"IMBD title ID\"], inplace=True) #drop missing movies\n",
    "movies = movies.rename(columns={\"IMBD title ID\": \"IMDB title ID\"}) #rename the column\n",
    "movies.head()"
   ],
   "id": "aaa514be2069d65e",
   "outputs": [
    {
     "data": {
      "text/plain": [
       "  IMDB title ID            Original title  Release year                 Genre  \\\n",
       "0     tt0111161  The Shawshank Redemption    1995-02-10                 Drama   \n",
       "1     tt0068646             The Godfather    09 21 1972          Crime, Drama   \n",
       "2     tt0468569           The Dark Knight   23 -07-2008  Action, Crime, Drama   \n",
       "3     tt0071562    The Godfather: Part II    1975-09-25          Crime, Drama   \n",
       "4     tt0110912              Pulp Fiction    1994-10-28          Crime, Drama   \n",
       "\n",
       "  Duration Country Content Rating              Director         Income  \\\n",
       "0      142     USA              R        Frank Darabont     $ 28815245   \n",
       "1      175     USA              R  Francis Ford Coppola    $ 246120974   \n",
       "2      152      US          PG-13     Christopher Nolan   $ 1005455211   \n",
       "3      220     USA              R  Francis Ford Coppola  $ 4o8,035,783   \n",
       "4              USA              R     Quentin Tarantino    $ 222831817   \n",
       "\n",
       "       Votes Score  \n",
       "0  2.278.845   9.3  \n",
       "1  1.572.674   9.2  \n",
       "2  2.241.615    9.  \n",
       "3  1.098.714  9,.0  \n",
       "4  1.780.147  8,9f  "
      ],
      "text/html": [
       "<div>\n",
       "<style scoped>\n",
       "    .dataframe tbody tr th:only-of-type {\n",
       "        vertical-align: middle;\n",
       "    }\n",
       "\n",
       "    .dataframe tbody tr th {\n",
       "        vertical-align: top;\n",
       "    }\n",
       "\n",
       "    .dataframe thead th {\n",
       "        text-align: right;\n",
       "    }\n",
       "</style>\n",
       "<table border=\"1\" class=\"dataframe\">\n",
       "  <thead>\n",
       "    <tr style=\"text-align: right;\">\n",
       "      <th></th>\n",
       "      <th>IMDB title ID</th>\n",
       "      <th>Original title</th>\n",
       "      <th>Release year</th>\n",
       "      <th>Genre</th>\n",
       "      <th>Duration</th>\n",
       "      <th>Country</th>\n",
       "      <th>Content Rating</th>\n",
       "      <th>Director</th>\n",
       "      <th>Income</th>\n",
       "      <th>Votes</th>\n",
       "      <th>Score</th>\n",
       "    </tr>\n",
       "  </thead>\n",
       "  <tbody>\n",
       "    <tr>\n",
       "      <th>0</th>\n",
       "      <td>tt0111161</td>\n",
       "      <td>The Shawshank Redemption</td>\n",
       "      <td>1995-02-10</td>\n",
       "      <td>Drama</td>\n",
       "      <td>142</td>\n",
       "      <td>USA</td>\n",
       "      <td>R</td>\n",
       "      <td>Frank Darabont</td>\n",
       "      <td>$ 28815245</td>\n",
       "      <td>2.278.845</td>\n",
       "      <td>9.3</td>\n",
       "    </tr>\n",
       "    <tr>\n",
       "      <th>1</th>\n",
       "      <td>tt0068646</td>\n",
       "      <td>The Godfather</td>\n",
       "      <td>09 21 1972</td>\n",
       "      <td>Crime, Drama</td>\n",
       "      <td>175</td>\n",
       "      <td>USA</td>\n",
       "      <td>R</td>\n",
       "      <td>Francis Ford Coppola</td>\n",
       "      <td>$ 246120974</td>\n",
       "      <td>1.572.674</td>\n",
       "      <td>9.2</td>\n",
       "    </tr>\n",
       "    <tr>\n",
       "      <th>2</th>\n",
       "      <td>tt0468569</td>\n",
       "      <td>The Dark Knight</td>\n",
       "      <td>23 -07-2008</td>\n",
       "      <td>Action, Crime, Drama</td>\n",
       "      <td>152</td>\n",
       "      <td>US</td>\n",
       "      <td>PG-13</td>\n",
       "      <td>Christopher Nolan</td>\n",
       "      <td>$ 1005455211</td>\n",
       "      <td>2.241.615</td>\n",
       "      <td>9.</td>\n",
       "    </tr>\n",
       "    <tr>\n",
       "      <th>3</th>\n",
       "      <td>tt0071562</td>\n",
       "      <td>The Godfather: Part II</td>\n",
       "      <td>1975-09-25</td>\n",
       "      <td>Crime, Drama</td>\n",
       "      <td>220</td>\n",
       "      <td>USA</td>\n",
       "      <td>R</td>\n",
       "      <td>Francis Ford Coppola</td>\n",
       "      <td>$ 4o8,035,783</td>\n",
       "      <td>1.098.714</td>\n",
       "      <td>9,.0</td>\n",
       "    </tr>\n",
       "    <tr>\n",
       "      <th>4</th>\n",
       "      <td>tt0110912</td>\n",
       "      <td>Pulp Fiction</td>\n",
       "      <td>1994-10-28</td>\n",
       "      <td>Crime, Drama</td>\n",
       "      <td></td>\n",
       "      <td>USA</td>\n",
       "      <td>R</td>\n",
       "      <td>Quentin Tarantino</td>\n",
       "      <td>$ 222831817</td>\n",
       "      <td>1.780.147</td>\n",
       "      <td>8,9f</td>\n",
       "    </tr>\n",
       "  </tbody>\n",
       "</table>\n",
       "</div>"
      ]
     },
     "execution_count": 1446,
     "metadata": {},
     "output_type": "execute_result"
    }
   ],
   "execution_count": 1446
  },
  {
   "metadata": {},
   "cell_type": "markdown",
   "source": "### \"Release year\" column",
   "id": "614578d6bbf39358"
  },
  {
   "metadata": {
    "ExecuteTime": {
     "end_time": "2025-03-06T14:40:08.396713Z",
     "start_time": "2025-03-06T14:40:08.390467Z"
    }
   },
   "cell_type": "code",
   "source": "movies[\"Release year\"].unique()   #look at the values",
   "id": "4ac13fe31b7b2303",
   "outputs": [
    {
     "data": {
      "text/plain": [
       "array(['1995-02-10', '09 21 1972', ' 23 -07-2008', '1975-09-25',\n",
       "       '1994-10-28', '22 Feb 04', '1994-03-11', '1957-09-04',\n",
       "       '2010-09-24', '10-29-99', '1994-10-06', '2002-01-18',\n",
       "       '23rd December of 1966 ', '1999-05-07', '01/16-03', '1980-09-19',\n",
       "       '1990-09-20', '18/11/1976', '2014-11-06', '1995-12-15',\n",
       "       '1991-03-05', '1977-10-20', '1998-10-30', '2000-10-03',\n",
       "       '2003-05-09', '2003-04-18', '1997-12-20', '2019-11-07',\n",
       "       '1948-03-11', '1955-08-19', '2000-05-19', '2006-10-27',\n",
       "       '2006-12-22', '1985-10-18', '1999-08-27', '1995-04-07',\n",
       "       '1991-12-19', '1995-11-30', '1994-11-25', '2019-10-03',\n",
       "       '2012-02-24', '2002-10-25', '2015-02-12', '1960-10-28', '21-11-46',\n",
       "       '1968-12-21', '2015-10-11', '1988-11-17', '1937-03-12',\n",
       "       '2012-08-29', '2013-01-17', '2001-01-19', '2008-10-17',\n",
       "       '1980-12-22', '1981-06-12', '2018-04-25', '1979-10-25',\n",
       "       '2019-04-24', '1979-12-18', '2005-05-06', '1964-04-03',\n",
       "       '1955-04-14', '2017-12-28', '2007-04-06', '2018-12-25',\n",
       "       '2009-12-25', '1984-09-28', '1945-06-25',\n",
       "       'The 6th of marzo, year 1951', '2009-10-02', '2000-01-21',\n",
       "       '1995-12-01', '1983-10-21', '1992-10-09', '2004-10-22',\n",
       "       '1996-03-22', '1998-03-06', '2001-03-16', '2000-12-15',\n",
       "       '1972-09-07', '2010-07-07', '1984-02-34', '1976-13-24',\n",
       "       '2002-01-25', '1987-10-09', '1986-09-24', '1968-12-12',\n",
       "       '1948-11-25', '2020-01-23', '1985-02-15', '1958-11-18',\n",
       "       '1959-10-28', '2012-11-22', '1963-10-29', '1974-03-21',\n",
       "       '1982-03-18', '1965-12-20', '2011-10-21', '1953-02-05'],\n",
       "      dtype=object)"
      ]
     },
     "execution_count": 1447,
     "metadata": {},
     "output_type": "execute_result"
    }
   ],
   "execution_count": 1447
  },
  {
   "metadata": {
    "ExecuteTime": {
     "end_time": "2025-03-06T14:40:08.538431Z",
     "start_time": "2025-03-06T14:40:08.514616Z"
    }
   },
   "cell_type": "code",
   "source": [
    "movies[\"Release year\"] = movies[\"Release year\"].str.strip().str.replace(\"/\",\"-\").str.replace(\" \", \"-\").str.replace(\"--\", \"-\").str.replace(\"23rd-December-of-1966\", \"1966-12-23\").str.replace(\"The-6th-of-marzo,-year-1951\", \"1951-03-06\").str.replace(\"Feb\", \"02\") #clean the dates\n",
    "def parse_mixed_dates(date_str): #try different formats on the dates\n",
    "    formats = [\"%Y-%m-%d\", \"%d-%m-%Y\", \"%m-%d-%Y\"]\n",
    "    \n",
    "    for fmt in formats:\n",
    "        try:\n",
    "            return pd.to_datetime(date_str, format=fmt)\n",
    "        except ValueError:\n",
    "            continue \n",
    "    \n",
    "    return pd.NaT \n",
    "movies[\"Release year\"] = movies[\"Release year\"].apply(parse_mixed_dates)\n",
    "mode = movies[\"Release year\"].mode()[0]  #fill the missing values with the mode\n",
    "movies[\"Release year\"]=movies[\"Release year\"].fillna(mode)\n",
    "movies[\"Release year\"].value_counts()\n",
    "movies[\"Release year\"] = pd.to_datetime(movies[\"Release year\"]).dt.year #extract only the year\n",
    "movies.head()"
   ],
   "id": "21133e2fd5c0c021",
   "outputs": [
    {
     "data": {
      "text/plain": [
       "  IMDB title ID            Original title  Release year                 Genre  \\\n",
       "0     tt0111161  The Shawshank Redemption          1995                 Drama   \n",
       "1     tt0068646             The Godfather          1972          Crime, Drama   \n",
       "2     tt0468569           The Dark Knight          2008  Action, Crime, Drama   \n",
       "3     tt0071562    The Godfather: Part II          1975          Crime, Drama   \n",
       "4     tt0110912              Pulp Fiction          1994          Crime, Drama   \n",
       "\n",
       "  Duration Country Content Rating              Director         Income  \\\n",
       "0      142     USA              R        Frank Darabont     $ 28815245   \n",
       "1      175     USA              R  Francis Ford Coppola    $ 246120974   \n",
       "2      152      US          PG-13     Christopher Nolan   $ 1005455211   \n",
       "3      220     USA              R  Francis Ford Coppola  $ 4o8,035,783   \n",
       "4              USA              R     Quentin Tarantino    $ 222831817   \n",
       "\n",
       "       Votes Score  \n",
       "0  2.278.845   9.3  \n",
       "1  1.572.674   9.2  \n",
       "2  2.241.615    9.  \n",
       "3  1.098.714  9,.0  \n",
       "4  1.780.147  8,9f  "
      ],
      "text/html": [
       "<div>\n",
       "<style scoped>\n",
       "    .dataframe tbody tr th:only-of-type {\n",
       "        vertical-align: middle;\n",
       "    }\n",
       "\n",
       "    .dataframe tbody tr th {\n",
       "        vertical-align: top;\n",
       "    }\n",
       "\n",
       "    .dataframe thead th {\n",
       "        text-align: right;\n",
       "    }\n",
       "</style>\n",
       "<table border=\"1\" class=\"dataframe\">\n",
       "  <thead>\n",
       "    <tr style=\"text-align: right;\">\n",
       "      <th></th>\n",
       "      <th>IMDB title ID</th>\n",
       "      <th>Original title</th>\n",
       "      <th>Release year</th>\n",
       "      <th>Genre</th>\n",
       "      <th>Duration</th>\n",
       "      <th>Country</th>\n",
       "      <th>Content Rating</th>\n",
       "      <th>Director</th>\n",
       "      <th>Income</th>\n",
       "      <th>Votes</th>\n",
       "      <th>Score</th>\n",
       "    </tr>\n",
       "  </thead>\n",
       "  <tbody>\n",
       "    <tr>\n",
       "      <th>0</th>\n",
       "      <td>tt0111161</td>\n",
       "      <td>The Shawshank Redemption</td>\n",
       "      <td>1995</td>\n",
       "      <td>Drama</td>\n",
       "      <td>142</td>\n",
       "      <td>USA</td>\n",
       "      <td>R</td>\n",
       "      <td>Frank Darabont</td>\n",
       "      <td>$ 28815245</td>\n",
       "      <td>2.278.845</td>\n",
       "      <td>9.3</td>\n",
       "    </tr>\n",
       "    <tr>\n",
       "      <th>1</th>\n",
       "      <td>tt0068646</td>\n",
       "      <td>The Godfather</td>\n",
       "      <td>1972</td>\n",
       "      <td>Crime, Drama</td>\n",
       "      <td>175</td>\n",
       "      <td>USA</td>\n",
       "      <td>R</td>\n",
       "      <td>Francis Ford Coppola</td>\n",
       "      <td>$ 246120974</td>\n",
       "      <td>1.572.674</td>\n",
       "      <td>9.2</td>\n",
       "    </tr>\n",
       "    <tr>\n",
       "      <th>2</th>\n",
       "      <td>tt0468569</td>\n",
       "      <td>The Dark Knight</td>\n",
       "      <td>2008</td>\n",
       "      <td>Action, Crime, Drama</td>\n",
       "      <td>152</td>\n",
       "      <td>US</td>\n",
       "      <td>PG-13</td>\n",
       "      <td>Christopher Nolan</td>\n",
       "      <td>$ 1005455211</td>\n",
       "      <td>2.241.615</td>\n",
       "      <td>9.</td>\n",
       "    </tr>\n",
       "    <tr>\n",
       "      <th>3</th>\n",
       "      <td>tt0071562</td>\n",
       "      <td>The Godfather: Part II</td>\n",
       "      <td>1975</td>\n",
       "      <td>Crime, Drama</td>\n",
       "      <td>220</td>\n",
       "      <td>USA</td>\n",
       "      <td>R</td>\n",
       "      <td>Francis Ford Coppola</td>\n",
       "      <td>$ 4o8,035,783</td>\n",
       "      <td>1.098.714</td>\n",
       "      <td>9,.0</td>\n",
       "    </tr>\n",
       "    <tr>\n",
       "      <th>4</th>\n",
       "      <td>tt0110912</td>\n",
       "      <td>Pulp Fiction</td>\n",
       "      <td>1994</td>\n",
       "      <td>Crime, Drama</td>\n",
       "      <td></td>\n",
       "      <td>USA</td>\n",
       "      <td>R</td>\n",
       "      <td>Quentin Tarantino</td>\n",
       "      <td>$ 222831817</td>\n",
       "      <td>1.780.147</td>\n",
       "      <td>8,9f</td>\n",
       "    </tr>\n",
       "  </tbody>\n",
       "</table>\n",
       "</div>"
      ]
     },
     "execution_count": 1448,
     "metadata": {},
     "output_type": "execute_result"
    }
   ],
   "execution_count": 1448
  },
  {
   "metadata": {},
   "cell_type": "markdown",
   "source": "### \"Genre\" column",
   "id": "f4c05c6dd800872f"
  },
  {
   "metadata": {
    "ExecuteTime": {
     "end_time": "2025-03-06T14:40:08.663071Z",
     "start_time": "2025-03-06T14:40:08.655979Z"
    }
   },
   "cell_type": "code",
   "source": "movies[\"Genre\"].unique() #look at the values",
   "id": "bc14d867079df5e5",
   "outputs": [
    {
     "data": {
      "text/plain": [
       "array(['Drama', 'Crime, Drama', 'Action, Crime, Drama',\n",
       "       'Action, Adventure, Drama', 'Biography, Drama, History',\n",
       "       'Action, Adventure, Sci-Fi', 'Drama, Romance', 'Western',\n",
       "       'Action, Sci-Fi', 'Action, Adventure, Fantasy',\n",
       "       'Biography, Crime, Drama', 'Adventure, Drama, Sci-Fi',\n",
       "       'Crime, Drama, Mystery', 'Crime, Drama, Thriller', 'Drama, War',\n",
       "       'Crime, Drama, Fantasy', 'Animation, Adventure, Family',\n",
       "       'Comedy, Drama, Romance', 'Comedy, Drama, Thriller',\n",
       "       'Drama, Family, Fantasy', 'Drama, Mystery, Sci-Fi',\n",
       "       'Adventure, Comedy, Sci-Fi', 'Crime, Mystery, Thriller',\n",
       "       'Animation, Adventure, Drama', 'Biography, Comedy, Drama',\n",
       "       'Biography, Drama, Music', 'Drama, Music',\n",
       "       'Horror, Mystery, Thriller', 'Drama, Romance, War',\n",
       "       'Animation, Drama, War', 'Comedy, Drama, Family',\n",
       "       'Action, Adventure', 'Drama, Western', 'Mystery, Thriller',\n",
       "       'Drama, Horror', 'Horror, Sci-Fi', 'Drama, Mystery, War',\n",
       "       'Action, Drama, Mystery', 'Comedy', 'Drama, Mystery, Thriller',\n",
       "       'Animation, Action, Adventure', 'Comedy, Drama',\n",
       "       'Animation, Adventure, Fantasy', 'Comedy, Drama, War',\n",
       "       'Drama, Film-Noir', 'Adventure, Drama, War',\n",
       "       'Drama, Romance, Sci-Fi', 'Animation, Adventure, Comedy',\n",
       "       'Comedy, Crime', 'Crime, Drama, Sci-Fi', 'Comedy, Romance',\n",
       "       'Adventure, Sci-Fi', 'Drama, Mystery',\n",
       "       'Mystery, Romance, Thriller', 'Adventure, Mystery, Thriller',\n",
       "       'Adventure, Biography, Drama', 'Comedy, Crime, Drama',\n",
       "       'Adventure, Drama, Thriller', 'Comedy, Musical, Romance'],\n",
       "      dtype=object)"
      ]
     },
     "execution_count": 1449,
     "metadata": {},
     "output_type": "execute_result"
    }
   ],
   "execution_count": 1449
  },
  {
   "metadata": {
    "ExecuteTime": {
     "end_time": "2025-03-06T14:40:08.849070Z",
     "start_time": "2025-03-06T14:40:08.824554Z"
    }
   },
   "cell_type": "code",
   "source": [
    "split_genre = movies['Genre'].str.split(',', expand=True) #split the column by comma\n",
    "\n",
    "unique_values = pd.unique(split_genre.values.ravel()) #list of all values\n",
    "unique_values = [val.strip() for val in unique_values if pd.notna(val)] #drop na values if any and strip the values\n",
    "\n",
    "for val in unique_values:\n",
    "    movies[val] = movies['Genre'].apply(lambda x: 1 if val in x else 0)  #create new columns for each unique value\n",
    "\n",
    "movies.drop(columns=['Genre'], inplace=True) #drop the \"Genre\" column\n",
    "movies.head()"
   ],
   "id": "8af7dea3bb0241a6",
   "outputs": [
    {
     "data": {
      "text/plain": [
       "  IMDB title ID            Original title  Release year Duration Country  \\\n",
       "0     tt0111161  The Shawshank Redemption          1995      142     USA   \n",
       "1     tt0068646             The Godfather          1972      175     USA   \n",
       "2     tt0468569           The Dark Knight          2008      152      US   \n",
       "3     tt0071562    The Godfather: Part II          1975      220     USA   \n",
       "4     tt0110912              Pulp Fiction          1994              USA   \n",
       "\n",
       "  Content Rating              Director         Income      Votes Score  ...  \\\n",
       "0              R        Frank Darabont     $ 28815245  2.278.845   9.3  ...   \n",
       "1              R  Francis Ford Coppola    $ 246120974  1.572.674   9.2  ...   \n",
       "2          PG-13     Christopher Nolan   $ 1005455211  2.241.615    9.  ...   \n",
       "3              R  Francis Ford Coppola  $ 4o8,035,783  1.098.714  9,.0  ...   \n",
       "4              R     Quentin Tarantino    $ 222831817  1.780.147  8,9f  ...   \n",
       "\n",
       "   Mystery  Thriller  War  Animation  Family  Comedy  Music  Horror  \\\n",
       "0        0         0    0          0       0       0      0       0   \n",
       "1        0         0    0          0       0       0      0       0   \n",
       "2        0         0    0          0       0       0      0       0   \n",
       "3        0         0    0          0       0       0      0       0   \n",
       "4        0         0    0          0       0       0      0       0   \n",
       "\n",
       "   Film-Noir  Musical  \n",
       "0          0        0  \n",
       "1          0        0  \n",
       "2          0        0  \n",
       "3          0        0  \n",
       "4          0        0  \n",
       "\n",
       "[5 rows x 30 columns]"
      ],
      "text/html": [
       "<div>\n",
       "<style scoped>\n",
       "    .dataframe tbody tr th:only-of-type {\n",
       "        vertical-align: middle;\n",
       "    }\n",
       "\n",
       "    .dataframe tbody tr th {\n",
       "        vertical-align: top;\n",
       "    }\n",
       "\n",
       "    .dataframe thead th {\n",
       "        text-align: right;\n",
       "    }\n",
       "</style>\n",
       "<table border=\"1\" class=\"dataframe\">\n",
       "  <thead>\n",
       "    <tr style=\"text-align: right;\">\n",
       "      <th></th>\n",
       "      <th>IMDB title ID</th>\n",
       "      <th>Original title</th>\n",
       "      <th>Release year</th>\n",
       "      <th>Duration</th>\n",
       "      <th>Country</th>\n",
       "      <th>Content Rating</th>\n",
       "      <th>Director</th>\n",
       "      <th>Income</th>\n",
       "      <th>Votes</th>\n",
       "      <th>Score</th>\n",
       "      <th>...</th>\n",
       "      <th>Mystery</th>\n",
       "      <th>Thriller</th>\n",
       "      <th>War</th>\n",
       "      <th>Animation</th>\n",
       "      <th>Family</th>\n",
       "      <th>Comedy</th>\n",
       "      <th>Music</th>\n",
       "      <th>Horror</th>\n",
       "      <th>Film-Noir</th>\n",
       "      <th>Musical</th>\n",
       "    </tr>\n",
       "  </thead>\n",
       "  <tbody>\n",
       "    <tr>\n",
       "      <th>0</th>\n",
       "      <td>tt0111161</td>\n",
       "      <td>The Shawshank Redemption</td>\n",
       "      <td>1995</td>\n",
       "      <td>142</td>\n",
       "      <td>USA</td>\n",
       "      <td>R</td>\n",
       "      <td>Frank Darabont</td>\n",
       "      <td>$ 28815245</td>\n",
       "      <td>2.278.845</td>\n",
       "      <td>9.3</td>\n",
       "      <td>...</td>\n",
       "      <td>0</td>\n",
       "      <td>0</td>\n",
       "      <td>0</td>\n",
       "      <td>0</td>\n",
       "      <td>0</td>\n",
       "      <td>0</td>\n",
       "      <td>0</td>\n",
       "      <td>0</td>\n",
       "      <td>0</td>\n",
       "      <td>0</td>\n",
       "    </tr>\n",
       "    <tr>\n",
       "      <th>1</th>\n",
       "      <td>tt0068646</td>\n",
       "      <td>The Godfather</td>\n",
       "      <td>1972</td>\n",
       "      <td>175</td>\n",
       "      <td>USA</td>\n",
       "      <td>R</td>\n",
       "      <td>Francis Ford Coppola</td>\n",
       "      <td>$ 246120974</td>\n",
       "      <td>1.572.674</td>\n",
       "      <td>9.2</td>\n",
       "      <td>...</td>\n",
       "      <td>0</td>\n",
       "      <td>0</td>\n",
       "      <td>0</td>\n",
       "      <td>0</td>\n",
       "      <td>0</td>\n",
       "      <td>0</td>\n",
       "      <td>0</td>\n",
       "      <td>0</td>\n",
       "      <td>0</td>\n",
       "      <td>0</td>\n",
       "    </tr>\n",
       "    <tr>\n",
       "      <th>2</th>\n",
       "      <td>tt0468569</td>\n",
       "      <td>The Dark Knight</td>\n",
       "      <td>2008</td>\n",
       "      <td>152</td>\n",
       "      <td>US</td>\n",
       "      <td>PG-13</td>\n",
       "      <td>Christopher Nolan</td>\n",
       "      <td>$ 1005455211</td>\n",
       "      <td>2.241.615</td>\n",
       "      <td>9.</td>\n",
       "      <td>...</td>\n",
       "      <td>0</td>\n",
       "      <td>0</td>\n",
       "      <td>0</td>\n",
       "      <td>0</td>\n",
       "      <td>0</td>\n",
       "      <td>0</td>\n",
       "      <td>0</td>\n",
       "      <td>0</td>\n",
       "      <td>0</td>\n",
       "      <td>0</td>\n",
       "    </tr>\n",
       "    <tr>\n",
       "      <th>3</th>\n",
       "      <td>tt0071562</td>\n",
       "      <td>The Godfather: Part II</td>\n",
       "      <td>1975</td>\n",
       "      <td>220</td>\n",
       "      <td>USA</td>\n",
       "      <td>R</td>\n",
       "      <td>Francis Ford Coppola</td>\n",
       "      <td>$ 4o8,035,783</td>\n",
       "      <td>1.098.714</td>\n",
       "      <td>9,.0</td>\n",
       "      <td>...</td>\n",
       "      <td>0</td>\n",
       "      <td>0</td>\n",
       "      <td>0</td>\n",
       "      <td>0</td>\n",
       "      <td>0</td>\n",
       "      <td>0</td>\n",
       "      <td>0</td>\n",
       "      <td>0</td>\n",
       "      <td>0</td>\n",
       "      <td>0</td>\n",
       "    </tr>\n",
       "    <tr>\n",
       "      <th>4</th>\n",
       "      <td>tt0110912</td>\n",
       "      <td>Pulp Fiction</td>\n",
       "      <td>1994</td>\n",
       "      <td></td>\n",
       "      <td>USA</td>\n",
       "      <td>R</td>\n",
       "      <td>Quentin Tarantino</td>\n",
       "      <td>$ 222831817</td>\n",
       "      <td>1.780.147</td>\n",
       "      <td>8,9f</td>\n",
       "      <td>...</td>\n",
       "      <td>0</td>\n",
       "      <td>0</td>\n",
       "      <td>0</td>\n",
       "      <td>0</td>\n",
       "      <td>0</td>\n",
       "      <td>0</td>\n",
       "      <td>0</td>\n",
       "      <td>0</td>\n",
       "      <td>0</td>\n",
       "      <td>0</td>\n",
       "    </tr>\n",
       "  </tbody>\n",
       "</table>\n",
       "<p>5 rows × 30 columns</p>\n",
       "</div>"
      ]
     },
     "execution_count": 1450,
     "metadata": {},
     "output_type": "execute_result"
    }
   ],
   "execution_count": 1450
  },
  {
   "metadata": {},
   "cell_type": "markdown",
   "source": "### \"Duration\" column",
   "id": "32496c73032adc99"
  },
  {
   "metadata": {
    "ExecuteTime": {
     "end_time": "2025-03-06T14:40:09.006296Z",
     "start_time": "2025-03-06T14:40:09.000268Z"
    }
   },
   "cell_type": "code",
   "source": "movies[\"Duration\"].unique() #look at the values",
   "id": "2ac94376a6634945",
   "outputs": [
    {
     "data": {
      "text/plain": [
       "array(['142', '175', '152', '220', ' ', '201', 'Nan', '96', '148', 'Inf',\n",
       "       '178c', '161', nan, '179', 'Not Applicable', '146', '-', '169',\n",
       "       '127', '118', '121', '189', '130', '125', '116', '132', '207',\n",
       "       '155', '151', '119', '110', '137', '106', '88', '122', '112',\n",
       "       '150', '109', '102', '165', '89', '87', '164', '113', '98', '115',\n",
       "       '149', '117', '181', '147', '120', '95', '105', '170', '134',\n",
       "       '229', '153', '178', '131', '99', '108', '81', '126', '104', '136',\n",
       "       '103', '114', '160', '128', '228', '129', '123'], dtype=object)"
      ]
     },
     "execution_count": 1451,
     "metadata": {},
     "output_type": "execute_result"
    }
   ],
   "execution_count": 1451
  },
  {
   "metadata": {
    "ExecuteTime": {
     "end_time": "2025-03-06T14:40:09.134952Z",
     "start_time": "2025-03-06T14:40:09.121878Z"
    }
   },
   "cell_type": "code",
   "source": [
    "movies[\"Duration\"] = movies[\"Duration\"].str.strip(\" c-InfNot Applicable\") #strip the values\n",
    "movies.loc[movies[\"Duration\"].isin([\"\"]), \"Duration\"] = np.nan #replace empty values with nan\n",
    "movies[\"Duration\"] = movies[\"Duration\"].astype(float)\n",
    "movies[\"Duration\"]=movies[\"Duration\"].fillna(movies[\"Duration\"].mean().round(0))  #fill nan values with mean\n",
    "movies[\"Duration\"] = movies[\"Duration\"].astype(int)\n",
    "movies[\"Duration\"].unique()"
   ],
   "id": "50c0c474ebe9e408",
   "outputs": [
    {
     "data": {
      "text/plain": [
       "array([142, 175, 152, 220, 135, 201,  96, 148, 178, 161, 179, 146, 169,\n",
       "       127, 118, 121, 189, 130, 125, 116, 132, 207, 155, 151, 119, 110,\n",
       "       137, 106,  88, 122, 112, 150, 109, 102, 165,  89,  87, 164, 113,\n",
       "        98, 115, 149, 117, 181, 147, 120,  95, 105, 170, 134, 229, 153,\n",
       "       131,  99, 108,  81, 126, 104, 136, 103, 114, 160, 128, 228, 129,\n",
       "       123])"
      ]
     },
     "execution_count": 1452,
     "metadata": {},
     "output_type": "execute_result"
    }
   ],
   "execution_count": 1452
  },
  {
   "metadata": {},
   "cell_type": "markdown",
   "source": "### \"Country\" column",
   "id": "1bd3331da0829bfe"
  },
  {
   "metadata": {
    "ExecuteTime": {
     "end_time": "2025-03-06T14:40:09.288114Z",
     "start_time": "2025-03-06T14:40:09.280461Z"
    }
   },
   "cell_type": "code",
   "source": "movies[\"Country\"].unique() #look at the values",
   "id": "2f500606356c472a",
   "outputs": [
    {
     "data": {
      "text/plain": [
       "array(['USA', 'US', 'New Zealand', 'UK', 'New Zesland', 'Italy',\n",
       "       'New Zeland', 'US.', 'Brazil', 'Japan', 'Italy1', 'South Korea',\n",
       "       'France', 'Germany', 'India', 'Denmark', 'West Germany', 'Iran'],\n",
       "      dtype=object)"
      ]
     },
     "execution_count": 1453,
     "metadata": {},
     "output_type": "execute_result"
    }
   ],
   "execution_count": 1453
  },
  {
   "metadata": {
    "ExecuteTime": {
     "end_time": "2025-03-06T14:40:09.449138Z",
     "start_time": "2025-03-06T14:40:09.440452Z"
    }
   },
   "cell_type": "code",
   "source": [
    "movies.loc[movies[\"Country\"].str.contains(\"US\"), \"Country\"] = \"USA\"    #replace similar values \n",
    "movies.loc[movies[\"Country\"].str.contains(\"Germany\"), \"Country\"] = \"Germany\"\n",
    "movies.loc[movies[\"Country\"].str.contains(\"New Z\"), \"Country\"] = \"New Zealand\"\n",
    "movies.loc[movies[\"Country\"].str.contains(\"Italy\"), \"Country\"] = \"Italy\"\n",
    "movies[\"Country\"].unique()"
   ],
   "id": "b144d6b38bfb6ecc",
   "outputs": [
    {
     "data": {
      "text/plain": [
       "array(['USA', 'New Zealand', 'UK', 'Italy', 'Brazil', 'Japan',\n",
       "       'South Korea', 'France', 'Germany', 'India', 'Denmark', 'Iran'],\n",
       "      dtype=object)"
      ]
     },
     "execution_count": 1454,
     "metadata": {},
     "output_type": "execute_result"
    }
   ],
   "execution_count": 1454
  },
  {
   "metadata": {},
   "cell_type": "markdown",
   "source": "### \"Content rating\" column",
   "id": "5327c07e7e15da17"
  },
  {
   "metadata": {
    "ExecuteTime": {
     "end_time": "2025-03-06T14:40:09.535949Z",
     "start_time": "2025-03-06T14:40:09.530655Z"
    }
   },
   "cell_type": "code",
   "source": "movies[\"Content Rating\"].unique() #look at the values",
   "id": "17de7dddb9f5ea8c",
   "outputs": [
    {
     "data": {
      "text/plain": [
       "array(['R', 'PG-13', 'Not Rated', 'Approved', 'PG', nan, 'Unrated', 'G'],\n",
       "      dtype=object)"
      ]
     },
     "execution_count": 1455,
     "metadata": {},
     "output_type": "execute_result"
    }
   ],
   "execution_count": 1455
  },
  {
   "metadata": {
    "ExecuteTime": {
     "end_time": "2025-03-06T14:40:09.617299Z",
     "start_time": "2025-03-06T14:40:09.600375Z"
    }
   },
   "cell_type": "code",
   "source": [
    "movies[\"Content Rating\"] = movies[\"Content Rating\"].fillna(\"Not Rated\") #fill na values with \"Not Rated\"\n",
    "movies.loc[movies[\"Content Rating\"].str.contains(\"Not Rated|Approved|Unrated\"), \"Content Rating\"] = \"Not Rated\"  #replace these invalid categories with \"Not rated\"\n",
    "movies[\"Content Rating\"] = movies[\"Content Rating\"].astype(\"category\")  \n",
    "movies[\"Content Rating\"] = movies[\"Content Rating\"].cat.set_categories(new_categories=[\"Not Rated\", \"G\", \"PG\", \"PG-13\", \"R\"], ordered=True) #order categories\n",
    "movies[\"Content Rating\"].value_counts()"
   ],
   "id": "abf3e039a9a462b7",
   "outputs": [
    {
     "data": {
      "text/plain": [
       "Content Rating\n",
       "R            45\n",
       "Not Rated    26\n",
       "PG-13        12\n",
       "PG           11\n",
       "G             6\n",
       "Name: count, dtype: int64"
      ]
     },
     "execution_count": 1456,
     "metadata": {},
     "output_type": "execute_result"
    }
   ],
   "execution_count": 1456
  },
  {
   "metadata": {},
   "cell_type": "markdown",
   "source": "### \"Income\" column",
   "id": "84a28f4311533a"
  },
  {
   "metadata": {
    "ExecuteTime": {
     "end_time": "2025-03-06T14:40:09.697989Z",
     "start_time": "2025-03-06T14:40:09.691067Z"
    }
   },
   "cell_type": "code",
   "source": "movies[\"Income\"].unique() #look at the values",
   "id": "b50321680b2921eb",
   "outputs": [
    {
     "data": {
      "text/plain": [
       "array(['$ 28815245', '$ 246120974', '$ 1005455211', '$ 4o8,035,783',\n",
       "       '$ 222831817', '$ 1142271098', '$ 322287794', '$ 576',\n",
       "       '$ 869784991', '$ 101218804', '$ 678229452', '$ 887934303',\n",
       "       '$ 25252481', '$ 465718588', '$ 951227416', '$ 549265501',\n",
       "       '$ 46879633', '$ 108997629', '$ 696742056', '$ 327333559',\n",
       "       '$ 272753884', '$ 775768912', '$ 482349603', '$ 286801374',\n",
       "       '$ 30680793', '$ 355467056', '$ 230098753', '$ 257604912',\n",
       "       '$ 6130720', '$ 322773', '$ 465361176', '$ 291465034',\n",
       "       '$ 109676311', '$ 388774684', '$ 23875127', '$ 19552639',\n",
       "       '$ 520884847', '$ 23341568', '$ 968511805', '$ 1074251311',\n",
       "       '$ 426588510', '$ 120072577', '$ 48983260', '$ 32008644',\n",
       "       '$ 4374761', '$ 112911', '$ 516962', '$ 13826605', '$ 457688',\n",
       "       '$ 1081133191', '$ 425368238', '$ 39970386', '$ 521311860',\n",
       "       '$ 46520613', '$ 390133212', '$ 2048359754', '$ 108110316',\n",
       "       '$ 2797800564', '$ 91968688', '$ 15002116', '$ 9443876',\n",
       "       '$ 37032034', '$ 807083670', '$ 77356942', '$ 375540831',\n",
       "       '$ 60262836', '$ 169785629', '$ 5472914', '$ 969879', '$ 299645',\n",
       "       '$ 321455689', '$ 356296601', '$ 213216216', '$ 475347111',\n",
       "       '$ 2889963', '$ 74036715', '$ 404265438', '$ 225933435',\n",
       "       '$ 83557872', '$ 7390108', '$ 26903440', '$ 1066969703',\n",
       "       '$ 66023585', '$ 28441292', '$ 173924742', '$ 46357676',\n",
       "       '$ 131384634', '$ 68989547', '$ 1594107', '$ 384857224',\n",
       "       '$ 52066791', '$ 7796389', '$ 73446', '$ 15843274', '$ 45710874',\n",
       "       '$ 156000000', '$ 11487676', '$ 15000000', '$ 22926076',\n",
       "       '$ 1864182'], dtype=object)"
      ]
     },
     "execution_count": 1457,
     "metadata": {},
     "output_type": "execute_result"
    }
   ],
   "execution_count": 1457
  },
  {
   "metadata": {
    "ExecuteTime": {
     "end_time": "2025-03-06T14:40:09.865111Z",
     "start_time": "2025-03-06T14:40:09.850512Z"
    }
   },
   "cell_type": "code",
   "source": [
    "movies[\"Income\"]=movies[\"Income\"].str.strip(\"$ \").str.replace(\",\",\"\").str.replace(\"o\",\"0\").astype(int) #clean the values\n",
    "movies[\"Income\"].head()"
   ],
   "id": "5c9657ca3e6d777a",
   "outputs": [
    {
     "data": {
      "text/plain": [
       "0      28815245\n",
       "1     246120974\n",
       "2    1005455211\n",
       "3     408035783\n",
       "4     222831817\n",
       "Name: Income, dtype: int64"
      ]
     },
     "execution_count": 1458,
     "metadata": {},
     "output_type": "execute_result"
    }
   ],
   "execution_count": 1458
  },
  {
   "metadata": {},
   "cell_type": "markdown",
   "source": "### \"Votes\" column",
   "id": "298ee24942b66df1"
  },
  {
   "metadata": {
    "ExecuteTime": {
     "end_time": "2025-03-06T14:40:09.976087Z",
     "start_time": "2025-03-06T14:40:09.970706Z"
    }
   },
   "cell_type": "code",
   "source": "movies[\"Votes\"].unique() #look at the values",
   "id": "1f966b795c78beaa",
   "outputs": [
    {
     "data": {
      "text/plain": [
       "array(['2.278.845', '1.572.674', '2.241.615', '1.098.714', '1.780.147',\n",
       "       '1.604.280', '1.183.248', '668.473', '2.002.816', '1.807.440',\n",
       "       '1.755.490', '1.619.920', '672.499', '1.632.315', '1.449.778',\n",
       "       '1.132.073', '991.505', '891.071', '1.449.256', '1.402.015',\n",
       "       '1.234.134', '1.204.107', '1.203.825', '1.112.336', '685.856',\n",
       "       '626.693', '605.648', '470.931', '388.310', '307.958', '1.308.193',\n",
       "       '1.159.703', '1.155.723', '1.027.330', '1.014.218', '1.007.598',\n",
       "       '974.970', '968.947', '917.248', '855.097', '736.691', '707.942',\n",
       "       '690.732', '586.765', '509.953', '295.220', '225.438', '223.050',\n",
       "       '211.250', '1.480.582', '1.317.856', '1.098.879', '974.734',\n",
       "       '869.480', '865.510', '796.486', '768.874', '754.786', '591.251',\n",
       "       '501.082', '441.115', '432.390', '352.455', '349.642', '335.892',\n",
       "       '332.217', '331.045', '302.317', '197.381', '195.789', '1.229.958',\n",
       "       '1.049.009', '941.683', '928.036', '896.551', '889.875', '864.461',\n",
       "       '837.379', '766.589', '748.291', '740.301', '739.717', '721.343',\n",
       "       '703.264', '690.480', '658.175', '639.500', '587.866', '389.322',\n",
       "       '362.897', '361.028', '352.786', '291.628', '269.616', '261.504',\n",
       "       '236.285', '226.427', '226.039', '214.165', '213.152'],\n",
       "      dtype=object)"
      ]
     },
     "execution_count": 1459,
     "metadata": {},
     "output_type": "execute_result"
    }
   ],
   "execution_count": 1459
  },
  {
   "metadata": {
    "ExecuteTime": {
     "end_time": "2025-03-06T14:40:10.066157Z",
     "start_time": "2025-03-06T14:40:10.056694Z"
    }
   },
   "cell_type": "code",
   "source": [
    "movies[\"Votes\"]=movies[\"Votes\"].str.replace(\".\",\"\").astype(int) #clean the values\n",
    "movies[\"Votes\"].head()"
   ],
   "id": "f584c498df2eca8d",
   "outputs": [
    {
     "data": {
      "text/plain": [
       "0    2278845\n",
       "1    1572674\n",
       "2    2241615\n",
       "3    1098714\n",
       "4    1780147\n",
       "Name: Votes, dtype: int64"
      ]
     },
     "execution_count": 1460,
     "metadata": {},
     "output_type": "execute_result"
    }
   ],
   "execution_count": 1460
  },
  {
   "metadata": {},
   "cell_type": "markdown",
   "source": "### \"Score\" column",
   "id": "b81345c3b8e93f0a"
  },
  {
   "metadata": {
    "ExecuteTime": {
     "end_time": "2025-03-06T14:40:10.175664Z",
     "start_time": "2025-03-06T14:40:10.170573Z"
    }
   },
   "cell_type": "code",
   "source": "movies[\"Score\"].unique()  #look at the values",
   "id": "9ed76a923abcd765",
   "outputs": [
    {
     "data": {
      "text/plain": [
       "array(['9.3', '9.2', '9.', '9,.0', '8,9f', '08.9', '8.9', '8..8', '8.8',\n",
       "       '8:8', '++8.7', '8.7.', '8,7e-0', '8.7', '8.6', '8,6', '8.5',\n",
       "       '8.4', '8.3', '8.2', '8.1', '8.0', '7.9', '7.8', '7.7', '7.6',\n",
       "       '7.5', '7.4'], dtype=object)"
      ]
     },
     "execution_count": 1461,
     "metadata": {},
     "output_type": "execute_result"
    }
   ],
   "execution_count": 1461
  },
  {
   "metadata": {
    "ExecuteTime": {
     "end_time": "2025-03-06T14:40:10.265295Z",
     "start_time": "2025-03-06T14:40:10.254099Z"
    }
   },
   "cell_type": "code",
   "source": [
    "movies[\"Score\"]=movies[\"Score\"].str.strip(\"0.e-0++f\").str.replace(\",\",\".\").str.replace(\":\",\".\") #clean the values\n",
    "movies.loc[movies[\"Score\"].str.contains(\"9.\"), \"Score\"] = \"9.0\"\n",
    "movies.loc[movies[\"Score\"].str.contains(\"8..8\"), \"Score\"] = \"8.8\"\n",
    "movies[\"Score\"]=movies[\"Score\"].astype(float)\n",
    "movies[\"Score\"].head()"
   ],
   "id": "ab56d84f82bf6d11",
   "outputs": [
    {
     "data": {
      "text/plain": [
       "0    9.0\n",
       "1    9.0\n",
       "2    9.0\n",
       "3    9.0\n",
       "4    8.9\n",
       "Name: Score, dtype: float64"
      ]
     },
     "execution_count": 1462,
     "metadata": {},
     "output_type": "execute_result"
    }
   ],
   "execution_count": 1462
  },
  {
   "metadata": {
    "ExecuteTime": {
     "end_time": "2025-03-06T14:40:10.410222Z",
     "start_time": "2025-03-06T14:40:10.392278Z"
    }
   },
   "cell_type": "code",
   "source": [
    "# Melt the genre columns into a long format\n",
    "melted_genres = pd.melt(\n",
    "    movies, \n",
    "    id_vars=['IMDB title ID', 'Original title', 'Release year', 'Duration', 'Country', 'Content Rating', 'Director', 'Income', 'Votes', 'Score'],  # Keep these columns as identifiers\n",
    "    value_vars=['Drama', 'Crime', 'Action', 'Adventure', 'Biography', 'History', 'Sci-Fi', 'Romance', 'Western', 'Fantasy', 'Mystery', 'Thriller', 'War', 'Animation', 'Family', 'Comedy', 'Music', 'Horror', 'Film-Noir', 'Musical'],  # Columns to melt\n",
    "    var_name='Genre',  # Name of the new column for genres\n",
    "    value_name='Is_Genre'  # Name of the new column for binary values (1 or 0)\n",
    ")\n",
    "\n",
    "# Filter only rows where the genre is present (Is_Genre == 1)\n",
    "melted_genres = melted_genres[melted_genres['Is_Genre'] == 1]\n",
    "\n",
    "# Drop the 'Is_Genre' column since it's always 1\n",
    "melted_genres = melted_genres.drop(columns=['Is_Genre'])\n",
    "\n",
    "# Display the melted dataframe\n",
    "print(melted_genres.head())"
   ],
   "id": "ebdeaaa71707046a",
   "outputs": [
    {
     "name": "stdout",
     "output_type": "stream",
     "text": [
      "  IMDB title ID            Original title  Release year  Duration Country  \\\n",
      "0     tt0111161  The Shawshank Redemption          1995       142     USA   \n",
      "1     tt0068646             The Godfather          1972       175     USA   \n",
      "2     tt0468569           The Dark Knight          2008       152     USA   \n",
      "3     tt0071562    The Godfather: Part II          1975       220     USA   \n",
      "4     tt0110912              Pulp Fiction          1994       135     USA   \n",
      "\n",
      "  Content Rating              Director      Income    Votes  Score  Genre  \n",
      "0              R        Frank Darabont    28815245  2278845    9.0  Drama  \n",
      "1              R  Francis Ford Coppola   246120974  1572674    9.0  Drama  \n",
      "2          PG-13     Christopher Nolan  1005455211  2241615    9.0  Drama  \n",
      "3              R  Francis Ford Coppola   408035783  1098714    9.0  Drama  \n",
      "4              R     Quentin Tarantino   222831817  1780147    8.9  Drama  \n"
     ]
    }
   ],
   "execution_count": 1463
  },
  {
   "metadata": {},
   "cell_type": "markdown",
   "source": "## Exploratory Data Analysis (EDA) & Visualizations",
   "id": "638e66d4c6664760"
  },
  {
   "metadata": {
    "ExecuteTime": {
     "end_time": "2025-03-06T14:40:10.525642Z",
     "start_time": "2025-03-06T14:40:10.512564Z"
    }
   },
   "cell_type": "code",
   "source": "movies.info()",
   "id": "c092aea73b624591",
   "outputs": [
    {
     "name": "stdout",
     "output_type": "stream",
     "text": [
      "<class 'pandas.core.frame.DataFrame'>\n",
      "Index: 100 entries, 0 to 100\n",
      "Data columns (total 30 columns):\n",
      " #   Column          Non-Null Count  Dtype   \n",
      "---  ------          --------------  -----   \n",
      " 0   IMDB title ID   100 non-null    object  \n",
      " 1   Original title  100 non-null    object  \n",
      " 2   Release year    100 non-null    int32   \n",
      " 3   Duration        100 non-null    int64   \n",
      " 4   Country         100 non-null    object  \n",
      " 5   Content Rating  100 non-null    category\n",
      " 6   Director        100 non-null    object  \n",
      " 7   Income          100 non-null    int64   \n",
      " 8   Votes           100 non-null    int64   \n",
      " 9   Score           100 non-null    float64 \n",
      " 10  Drama           100 non-null    int64   \n",
      " 11  Crime           100 non-null    int64   \n",
      " 12  Action          100 non-null    int64   \n",
      " 13  Adventure       100 non-null    int64   \n",
      " 14  Biography       100 non-null    int64   \n",
      " 15  History         100 non-null    int64   \n",
      " 16  Sci-Fi          100 non-null    int64   \n",
      " 17  Romance         100 non-null    int64   \n",
      " 18  Western         100 non-null    int64   \n",
      " 19  Fantasy         100 non-null    int64   \n",
      " 20  Mystery         100 non-null    int64   \n",
      " 21  Thriller        100 non-null    int64   \n",
      " 22  War             100 non-null    int64   \n",
      " 23  Animation       100 non-null    int64   \n",
      " 24  Family          100 non-null    int64   \n",
      " 25  Comedy          100 non-null    int64   \n",
      " 26  Music           100 non-null    int64   \n",
      " 27  Horror          100 non-null    int64   \n",
      " 28  Film-Noir       100 non-null    int64   \n",
      " 29  Musical         100 non-null    int64   \n",
      "dtypes: category(1), float64(1), int32(1), int64(23), object(4)\n",
      "memory usage: 23.4+ KB\n"
     ]
    }
   ],
   "execution_count": 1464
  },
  {
   "metadata": {
    "ExecuteTime": {
     "end_time": "2025-03-06T14:40:10.678913Z",
     "start_time": "2025-03-06T14:40:10.641656Z"
    }
   },
   "cell_type": "code",
   "source": "movies.describe()",
   "id": "c192308d9e825d58",
   "outputs": [
    {
     "data": {
      "text/plain": [
       "       Release year    Duration        Income         Votes       Score  \\\n",
       "count    100.000000  100.000000  1.000000e+02  1.000000e+02  100.000000   \n",
       "mean    1990.770000  135.330000  2.991255e+08  8.297713e+05    8.235000   \n",
       "std       19.969095   30.367465  4.360335e+08  4.829340e+05    0.441388   \n",
       "min     1937.000000   81.000000  5.760000e+02  1.957890e+05    7.400000   \n",
       "25%     1979.000000  115.000000  2.374174e+07  3.890690e+05    7.900000   \n",
       "50%     1995.500000  130.500000  1.093370e+08  7.515385e+05    8.300000   \n",
       "75%     2004.250000  150.250000  4.052080e+08  1.102243e+06    8.600000   \n",
       "max     2020.000000  229.000000  2.797801e+09  2.278845e+06    9.000000   \n",
       "\n",
       "            Drama      Crime      Action   Adventure   Biography  ...  \\\n",
       "count  100.000000  100.00000  100.000000  100.000000  100.000000  ...   \n",
       "mean     0.670000    0.21000    0.200000    0.290000    0.070000  ...   \n",
       "std      0.472582    0.40936    0.402015    0.456048    0.256432  ...   \n",
       "min      0.000000    0.00000    0.000000    0.000000    0.000000  ...   \n",
       "25%      0.000000    0.00000    0.000000    0.000000    0.000000  ...   \n",
       "50%      1.000000    0.00000    0.000000    0.000000    0.000000  ...   \n",
       "75%      1.000000    0.00000    0.000000    1.000000    0.000000  ...   \n",
       "max      1.000000    1.00000    1.000000    1.000000    1.000000  ...   \n",
       "\n",
       "          Mystery    Thriller        War   Animation      Family      Comedy  \\\n",
       "count  100.000000  100.000000  100.00000  100.000000  100.000000  100.000000   \n",
       "mean     0.120000    0.130000    0.08000    0.090000    0.050000    0.140000   \n",
       "std      0.326599    0.337998    0.27266    0.287623    0.219043    0.348735   \n",
       "min      0.000000    0.000000    0.00000    0.000000    0.000000    0.000000   \n",
       "25%      0.000000    0.000000    0.00000    0.000000    0.000000    0.000000   \n",
       "50%      0.000000    0.000000    0.00000    0.000000    0.000000    0.000000   \n",
       "75%      0.000000    0.000000    0.00000    0.000000    0.000000    0.000000   \n",
       "max      1.000000    1.000000    1.00000    1.000000    1.000000    1.000000   \n",
       "\n",
       "            Music      Horror  Film-Noir  Musical  \n",
       "count  100.000000  100.000000     100.00   100.00  \n",
       "mean     0.030000    0.030000       0.01     0.01  \n",
       "std      0.171447    0.171447       0.10     0.10  \n",
       "min      0.000000    0.000000       0.00     0.00  \n",
       "25%      0.000000    0.000000       0.00     0.00  \n",
       "50%      0.000000    0.000000       0.00     0.00  \n",
       "75%      0.000000    0.000000       0.00     0.00  \n",
       "max      1.000000    1.000000       1.00     1.00  \n",
       "\n",
       "[8 rows x 25 columns]"
      ],
      "text/html": [
       "<div>\n",
       "<style scoped>\n",
       "    .dataframe tbody tr th:only-of-type {\n",
       "        vertical-align: middle;\n",
       "    }\n",
       "\n",
       "    .dataframe tbody tr th {\n",
       "        vertical-align: top;\n",
       "    }\n",
       "\n",
       "    .dataframe thead th {\n",
       "        text-align: right;\n",
       "    }\n",
       "</style>\n",
       "<table border=\"1\" class=\"dataframe\">\n",
       "  <thead>\n",
       "    <tr style=\"text-align: right;\">\n",
       "      <th></th>\n",
       "      <th>Release year</th>\n",
       "      <th>Duration</th>\n",
       "      <th>Income</th>\n",
       "      <th>Votes</th>\n",
       "      <th>Score</th>\n",
       "      <th>Drama</th>\n",
       "      <th>Crime</th>\n",
       "      <th>Action</th>\n",
       "      <th>Adventure</th>\n",
       "      <th>Biography</th>\n",
       "      <th>...</th>\n",
       "      <th>Mystery</th>\n",
       "      <th>Thriller</th>\n",
       "      <th>War</th>\n",
       "      <th>Animation</th>\n",
       "      <th>Family</th>\n",
       "      <th>Comedy</th>\n",
       "      <th>Music</th>\n",
       "      <th>Horror</th>\n",
       "      <th>Film-Noir</th>\n",
       "      <th>Musical</th>\n",
       "    </tr>\n",
       "  </thead>\n",
       "  <tbody>\n",
       "    <tr>\n",
       "      <th>count</th>\n",
       "      <td>100.000000</td>\n",
       "      <td>100.000000</td>\n",
       "      <td>1.000000e+02</td>\n",
       "      <td>1.000000e+02</td>\n",
       "      <td>100.000000</td>\n",
       "      <td>100.000000</td>\n",
       "      <td>100.00000</td>\n",
       "      <td>100.000000</td>\n",
       "      <td>100.000000</td>\n",
       "      <td>100.000000</td>\n",
       "      <td>...</td>\n",
       "      <td>100.000000</td>\n",
       "      <td>100.000000</td>\n",
       "      <td>100.00000</td>\n",
       "      <td>100.000000</td>\n",
       "      <td>100.000000</td>\n",
       "      <td>100.000000</td>\n",
       "      <td>100.000000</td>\n",
       "      <td>100.000000</td>\n",
       "      <td>100.00</td>\n",
       "      <td>100.00</td>\n",
       "    </tr>\n",
       "    <tr>\n",
       "      <th>mean</th>\n",
       "      <td>1990.770000</td>\n",
       "      <td>135.330000</td>\n",
       "      <td>2.991255e+08</td>\n",
       "      <td>8.297713e+05</td>\n",
       "      <td>8.235000</td>\n",
       "      <td>0.670000</td>\n",
       "      <td>0.21000</td>\n",
       "      <td>0.200000</td>\n",
       "      <td>0.290000</td>\n",
       "      <td>0.070000</td>\n",
       "      <td>...</td>\n",
       "      <td>0.120000</td>\n",
       "      <td>0.130000</td>\n",
       "      <td>0.08000</td>\n",
       "      <td>0.090000</td>\n",
       "      <td>0.050000</td>\n",
       "      <td>0.140000</td>\n",
       "      <td>0.030000</td>\n",
       "      <td>0.030000</td>\n",
       "      <td>0.01</td>\n",
       "      <td>0.01</td>\n",
       "    </tr>\n",
       "    <tr>\n",
       "      <th>std</th>\n",
       "      <td>19.969095</td>\n",
       "      <td>30.367465</td>\n",
       "      <td>4.360335e+08</td>\n",
       "      <td>4.829340e+05</td>\n",
       "      <td>0.441388</td>\n",
       "      <td>0.472582</td>\n",
       "      <td>0.40936</td>\n",
       "      <td>0.402015</td>\n",
       "      <td>0.456048</td>\n",
       "      <td>0.256432</td>\n",
       "      <td>...</td>\n",
       "      <td>0.326599</td>\n",
       "      <td>0.337998</td>\n",
       "      <td>0.27266</td>\n",
       "      <td>0.287623</td>\n",
       "      <td>0.219043</td>\n",
       "      <td>0.348735</td>\n",
       "      <td>0.171447</td>\n",
       "      <td>0.171447</td>\n",
       "      <td>0.10</td>\n",
       "      <td>0.10</td>\n",
       "    </tr>\n",
       "    <tr>\n",
       "      <th>min</th>\n",
       "      <td>1937.000000</td>\n",
       "      <td>81.000000</td>\n",
       "      <td>5.760000e+02</td>\n",
       "      <td>1.957890e+05</td>\n",
       "      <td>7.400000</td>\n",
       "      <td>0.000000</td>\n",
       "      <td>0.00000</td>\n",
       "      <td>0.000000</td>\n",
       "      <td>0.000000</td>\n",
       "      <td>0.000000</td>\n",
       "      <td>...</td>\n",
       "      <td>0.000000</td>\n",
       "      <td>0.000000</td>\n",
       "      <td>0.00000</td>\n",
       "      <td>0.000000</td>\n",
       "      <td>0.000000</td>\n",
       "      <td>0.000000</td>\n",
       "      <td>0.000000</td>\n",
       "      <td>0.000000</td>\n",
       "      <td>0.00</td>\n",
       "      <td>0.00</td>\n",
       "    </tr>\n",
       "    <tr>\n",
       "      <th>25%</th>\n",
       "      <td>1979.000000</td>\n",
       "      <td>115.000000</td>\n",
       "      <td>2.374174e+07</td>\n",
       "      <td>3.890690e+05</td>\n",
       "      <td>7.900000</td>\n",
       "      <td>0.000000</td>\n",
       "      <td>0.00000</td>\n",
       "      <td>0.000000</td>\n",
       "      <td>0.000000</td>\n",
       "      <td>0.000000</td>\n",
       "      <td>...</td>\n",
       "      <td>0.000000</td>\n",
       "      <td>0.000000</td>\n",
       "      <td>0.00000</td>\n",
       "      <td>0.000000</td>\n",
       "      <td>0.000000</td>\n",
       "      <td>0.000000</td>\n",
       "      <td>0.000000</td>\n",
       "      <td>0.000000</td>\n",
       "      <td>0.00</td>\n",
       "      <td>0.00</td>\n",
       "    </tr>\n",
       "    <tr>\n",
       "      <th>50%</th>\n",
       "      <td>1995.500000</td>\n",
       "      <td>130.500000</td>\n",
       "      <td>1.093370e+08</td>\n",
       "      <td>7.515385e+05</td>\n",
       "      <td>8.300000</td>\n",
       "      <td>1.000000</td>\n",
       "      <td>0.00000</td>\n",
       "      <td>0.000000</td>\n",
       "      <td>0.000000</td>\n",
       "      <td>0.000000</td>\n",
       "      <td>...</td>\n",
       "      <td>0.000000</td>\n",
       "      <td>0.000000</td>\n",
       "      <td>0.00000</td>\n",
       "      <td>0.000000</td>\n",
       "      <td>0.000000</td>\n",
       "      <td>0.000000</td>\n",
       "      <td>0.000000</td>\n",
       "      <td>0.000000</td>\n",
       "      <td>0.00</td>\n",
       "      <td>0.00</td>\n",
       "    </tr>\n",
       "    <tr>\n",
       "      <th>75%</th>\n",
       "      <td>2004.250000</td>\n",
       "      <td>150.250000</td>\n",
       "      <td>4.052080e+08</td>\n",
       "      <td>1.102243e+06</td>\n",
       "      <td>8.600000</td>\n",
       "      <td>1.000000</td>\n",
       "      <td>0.00000</td>\n",
       "      <td>0.000000</td>\n",
       "      <td>1.000000</td>\n",
       "      <td>0.000000</td>\n",
       "      <td>...</td>\n",
       "      <td>0.000000</td>\n",
       "      <td>0.000000</td>\n",
       "      <td>0.00000</td>\n",
       "      <td>0.000000</td>\n",
       "      <td>0.000000</td>\n",
       "      <td>0.000000</td>\n",
       "      <td>0.000000</td>\n",
       "      <td>0.000000</td>\n",
       "      <td>0.00</td>\n",
       "      <td>0.00</td>\n",
       "    </tr>\n",
       "    <tr>\n",
       "      <th>max</th>\n",
       "      <td>2020.000000</td>\n",
       "      <td>229.000000</td>\n",
       "      <td>2.797801e+09</td>\n",
       "      <td>2.278845e+06</td>\n",
       "      <td>9.000000</td>\n",
       "      <td>1.000000</td>\n",
       "      <td>1.00000</td>\n",
       "      <td>1.000000</td>\n",
       "      <td>1.000000</td>\n",
       "      <td>1.000000</td>\n",
       "      <td>...</td>\n",
       "      <td>1.000000</td>\n",
       "      <td>1.000000</td>\n",
       "      <td>1.00000</td>\n",
       "      <td>1.000000</td>\n",
       "      <td>1.000000</td>\n",
       "      <td>1.000000</td>\n",
       "      <td>1.000000</td>\n",
       "      <td>1.000000</td>\n",
       "      <td>1.00</td>\n",
       "      <td>1.00</td>\n",
       "    </tr>\n",
       "  </tbody>\n",
       "</table>\n",
       "<p>8 rows × 25 columns</p>\n",
       "</div>"
      ]
     },
     "execution_count": 1465,
     "metadata": {},
     "output_type": "execute_result"
    }
   ],
   "execution_count": 1465
  },
  {
   "metadata": {
    "ExecuteTime": {
     "end_time": "2025-03-06T14:40:10.845237Z",
     "start_time": "2025-03-06T14:40:10.820751Z"
    }
   },
   "cell_type": "code",
   "source": "movies.head()",
   "id": "c6ff2de7552feca3",
   "outputs": [
    {
     "data": {
      "text/plain": [
       "  IMDB title ID            Original title  Release year  Duration Country  \\\n",
       "0     tt0111161  The Shawshank Redemption          1995       142     USA   \n",
       "1     tt0068646             The Godfather          1972       175     USA   \n",
       "2     tt0468569           The Dark Knight          2008       152     USA   \n",
       "3     tt0071562    The Godfather: Part II          1975       220     USA   \n",
       "4     tt0110912              Pulp Fiction          1994       135     USA   \n",
       "\n",
       "  Content Rating              Director      Income    Votes  Score  ...  \\\n",
       "0              R        Frank Darabont    28815245  2278845    9.0  ...   \n",
       "1              R  Francis Ford Coppola   246120974  1572674    9.0  ...   \n",
       "2          PG-13     Christopher Nolan  1005455211  2241615    9.0  ...   \n",
       "3              R  Francis Ford Coppola   408035783  1098714    9.0  ...   \n",
       "4              R     Quentin Tarantino   222831817  1780147    8.9  ...   \n",
       "\n",
       "   Mystery  Thriller  War  Animation  Family  Comedy  Music  Horror  \\\n",
       "0        0         0    0          0       0       0      0       0   \n",
       "1        0         0    0          0       0       0      0       0   \n",
       "2        0         0    0          0       0       0      0       0   \n",
       "3        0         0    0          0       0       0      0       0   \n",
       "4        0         0    0          0       0       0      0       0   \n",
       "\n",
       "   Film-Noir  Musical  \n",
       "0          0        0  \n",
       "1          0        0  \n",
       "2          0        0  \n",
       "3          0        0  \n",
       "4          0        0  \n",
       "\n",
       "[5 rows x 30 columns]"
      ],
      "text/html": [
       "<div>\n",
       "<style scoped>\n",
       "    .dataframe tbody tr th:only-of-type {\n",
       "        vertical-align: middle;\n",
       "    }\n",
       "\n",
       "    .dataframe tbody tr th {\n",
       "        vertical-align: top;\n",
       "    }\n",
       "\n",
       "    .dataframe thead th {\n",
       "        text-align: right;\n",
       "    }\n",
       "</style>\n",
       "<table border=\"1\" class=\"dataframe\">\n",
       "  <thead>\n",
       "    <tr style=\"text-align: right;\">\n",
       "      <th></th>\n",
       "      <th>IMDB title ID</th>\n",
       "      <th>Original title</th>\n",
       "      <th>Release year</th>\n",
       "      <th>Duration</th>\n",
       "      <th>Country</th>\n",
       "      <th>Content Rating</th>\n",
       "      <th>Director</th>\n",
       "      <th>Income</th>\n",
       "      <th>Votes</th>\n",
       "      <th>Score</th>\n",
       "      <th>...</th>\n",
       "      <th>Mystery</th>\n",
       "      <th>Thriller</th>\n",
       "      <th>War</th>\n",
       "      <th>Animation</th>\n",
       "      <th>Family</th>\n",
       "      <th>Comedy</th>\n",
       "      <th>Music</th>\n",
       "      <th>Horror</th>\n",
       "      <th>Film-Noir</th>\n",
       "      <th>Musical</th>\n",
       "    </tr>\n",
       "  </thead>\n",
       "  <tbody>\n",
       "    <tr>\n",
       "      <th>0</th>\n",
       "      <td>tt0111161</td>\n",
       "      <td>The Shawshank Redemption</td>\n",
       "      <td>1995</td>\n",
       "      <td>142</td>\n",
       "      <td>USA</td>\n",
       "      <td>R</td>\n",
       "      <td>Frank Darabont</td>\n",
       "      <td>28815245</td>\n",
       "      <td>2278845</td>\n",
       "      <td>9.0</td>\n",
       "      <td>...</td>\n",
       "      <td>0</td>\n",
       "      <td>0</td>\n",
       "      <td>0</td>\n",
       "      <td>0</td>\n",
       "      <td>0</td>\n",
       "      <td>0</td>\n",
       "      <td>0</td>\n",
       "      <td>0</td>\n",
       "      <td>0</td>\n",
       "      <td>0</td>\n",
       "    </tr>\n",
       "    <tr>\n",
       "      <th>1</th>\n",
       "      <td>tt0068646</td>\n",
       "      <td>The Godfather</td>\n",
       "      <td>1972</td>\n",
       "      <td>175</td>\n",
       "      <td>USA</td>\n",
       "      <td>R</td>\n",
       "      <td>Francis Ford Coppola</td>\n",
       "      <td>246120974</td>\n",
       "      <td>1572674</td>\n",
       "      <td>9.0</td>\n",
       "      <td>...</td>\n",
       "      <td>0</td>\n",
       "      <td>0</td>\n",
       "      <td>0</td>\n",
       "      <td>0</td>\n",
       "      <td>0</td>\n",
       "      <td>0</td>\n",
       "      <td>0</td>\n",
       "      <td>0</td>\n",
       "      <td>0</td>\n",
       "      <td>0</td>\n",
       "    </tr>\n",
       "    <tr>\n",
       "      <th>2</th>\n",
       "      <td>tt0468569</td>\n",
       "      <td>The Dark Knight</td>\n",
       "      <td>2008</td>\n",
       "      <td>152</td>\n",
       "      <td>USA</td>\n",
       "      <td>PG-13</td>\n",
       "      <td>Christopher Nolan</td>\n",
       "      <td>1005455211</td>\n",
       "      <td>2241615</td>\n",
       "      <td>9.0</td>\n",
       "      <td>...</td>\n",
       "      <td>0</td>\n",
       "      <td>0</td>\n",
       "      <td>0</td>\n",
       "      <td>0</td>\n",
       "      <td>0</td>\n",
       "      <td>0</td>\n",
       "      <td>0</td>\n",
       "      <td>0</td>\n",
       "      <td>0</td>\n",
       "      <td>0</td>\n",
       "    </tr>\n",
       "    <tr>\n",
       "      <th>3</th>\n",
       "      <td>tt0071562</td>\n",
       "      <td>The Godfather: Part II</td>\n",
       "      <td>1975</td>\n",
       "      <td>220</td>\n",
       "      <td>USA</td>\n",
       "      <td>R</td>\n",
       "      <td>Francis Ford Coppola</td>\n",
       "      <td>408035783</td>\n",
       "      <td>1098714</td>\n",
       "      <td>9.0</td>\n",
       "      <td>...</td>\n",
       "      <td>0</td>\n",
       "      <td>0</td>\n",
       "      <td>0</td>\n",
       "      <td>0</td>\n",
       "      <td>0</td>\n",
       "      <td>0</td>\n",
       "      <td>0</td>\n",
       "      <td>0</td>\n",
       "      <td>0</td>\n",
       "      <td>0</td>\n",
       "    </tr>\n",
       "    <tr>\n",
       "      <th>4</th>\n",
       "      <td>tt0110912</td>\n",
       "      <td>Pulp Fiction</td>\n",
       "      <td>1994</td>\n",
       "      <td>135</td>\n",
       "      <td>USA</td>\n",
       "      <td>R</td>\n",
       "      <td>Quentin Tarantino</td>\n",
       "      <td>222831817</td>\n",
       "      <td>1780147</td>\n",
       "      <td>8.9</td>\n",
       "      <td>...</td>\n",
       "      <td>0</td>\n",
       "      <td>0</td>\n",
       "      <td>0</td>\n",
       "      <td>0</td>\n",
       "      <td>0</td>\n",
       "      <td>0</td>\n",
       "      <td>0</td>\n",
       "      <td>0</td>\n",
       "      <td>0</td>\n",
       "      <td>0</td>\n",
       "    </tr>\n",
       "  </tbody>\n",
       "</table>\n",
       "<p>5 rows × 30 columns</p>\n",
       "</div>"
      ]
     },
     "execution_count": 1466,
     "metadata": {},
     "output_type": "execute_result"
    }
   ],
   "execution_count": 1466
  },
  {
   "metadata": {
    "ExecuteTime": {
     "end_time": "2025-03-06T14:40:11.139552Z",
     "start_time": "2025-03-06T14:40:11.000644Z"
    }
   },
   "cell_type": "code",
   "source": [
    "new = movies.groupby(\"Country\", as_index=False)[\"Income\"].sum().sort_values(by=\"Income\",ascending=True)\n",
    "plt.figure(figsize=(8,4), dpi=100)\n",
    "sns.lineplot(x=\"Country\", y=\"Income\", data=new)\n",
    "plt.xticks(rotation=45)\n",
    "plt.xlabel(\"Country\")\n",
    "plt.ylabel(\"Income (in Billions)\")\n",
    "plt.title(\"Total Movies income by country\")\n",
    "plt.show()"
   ],
   "id": "e46a6be6121dae8c",
   "outputs": [
    {
     "data": {
      "text/plain": [
       "<Figure size 800x400 with 1 Axes>"
      ],
      "image/png": "[encoded data removed]"
     },
     "metadata": {},
     "output_type": "display_data"
    }
   ],
   "execution_count": 1467
  },
  {
   "metadata": {
    "ExecuteTime": {
     "end_time": "2025-03-06T14:40:11.455878Z",
     "start_time": "2025-03-06T14:40:11.280409Z"
    }
   },
   "cell_type": "code",
   "source": [
    "#top_10_income_movies = melted_genres.sort_values(by=\"Income\", ascending=False).iloc[:14]\n",
    "plt.figure(figsize=(8,4), dpi=100)\n",
    "sns.lineplot(y='Income', x='Genre', data=melted_genres, errorbar=None)\n",
    "plt.title('Grossing per Genre')\n",
    "plt.xlabel('Income (in Billions)')\n",
    "plt.ylabel('Movie Title')\n",
    "plt.xticks(rotation=45)\n",
    "plt.tight_layout()\n",
    "plt.show()\n"
   ],
   "id": "f08ab260bc2d10c2",
   "outputs": [
    {
     "data": {
      "text/plain": [
       "<Figure size 800x400 with 1 Axes>"
      ],
      "image/png": "[encoded data removed]"
     },
     "metadata": {},
     "output_type": "display_data"
    }
   ],
   "execution_count": 1468
  },
  {
   "metadata": {
    "ExecuteTime": {
     "end_time": "2025-03-06T14:40:11.600633Z",
     "start_time": "2025-03-06T14:40:11.514451Z"
    }
   },
   "cell_type": "code",
   "source": [
    "sns.boxplot(x=movies['Duration'])\n",
    "plt.title('Distribution of Movie Durations')\n",
    "plt.xlabel('Duration (minutes)')\n",
    "plt.show()"
   ],
   "id": "9480344f747f7bcc",
   "outputs": [
    {
     "data": {
      "text/plain": [
       "<Figure size 640x480 with 1 Axes>"
      ],
      "image/png": "[encoded data removed]"
     },
     "metadata": {},
     "output_type": "display_data"
    }
   ],
   "execution_count": 1469
  },
  {
   "metadata": {
    "ExecuteTime": {
     "end_time": "2025-03-06T14:40:11.811649Z",
     "start_time": "2025-03-06T14:40:11.652369Z"
    }
   },
   "cell_type": "code",
   "source": [
    "country_counts = movies['Country'].value_counts()\n",
    "sns.barplot(x=country_counts.index, y=country_counts.values)\n",
    "plt.title('Number of Movies by Country')\n",
    "plt.xlabel('Country')\n",
    "plt.ylabel('Number of Movies')\n",
    "plt.xticks(rotation=45)\n",
    "plt.show()"
   ],
   "id": "9add4eb92fba149d",
   "outputs": [
    {
     "data": {
      "text/plain": [
       "<Figure size 640x480 with 1 Axes>"
      ],
      "image/png": "[encoded data removed]"
     },
     "metadata": {},
     "output_type": "display_data"
    }
   ],
   "execution_count": 1470
  },
  {
   "metadata": {
    "ExecuteTime": {
     "end_time": "2025-03-06T14:40:11.918101Z",
     "start_time": "2025-03-06T14:40:11.872427Z"
    }
   },
   "cell_type": "code",
   "source": [
    "content_rating_counts = movies['Content Rating'].value_counts()\n",
    "plt.pie(content_rating_counts, labels=content_rating_counts.index, autopct='%1.1f%%')\n",
    "plt.title('Content Rating Distribution')\n",
    "plt.show()"
   ],
   "id": "605a9407990ddf94",
   "outputs": [
    {
     "data": {
      "text/plain": [
       "<Figure size 640x480 with 1 Axes>"
      ],
      "image/png": "[encoded data removed]"
     },
     "metadata": {},
     "output_type": "display_data"
    }
   ],
   "execution_count": 1471
  },
  {
   "metadata": {
    "ExecuteTime": {
     "end_time": "2025-03-06T14:40:12.073487Z",
     "start_time": "2025-03-06T14:40:11.940280Z"
    }
   },
   "cell_type": "code",
   "source": [
    "corr = movies[['Income', 'Votes', 'Score', 'Duration', \"Release year\"]].corr()\n",
    "sns.heatmap(corr, annot=True, cmap='coolwarm')\n",
    "plt.title('Correlation Heatmap')\n",
    "plt.show()"
   ],
   "id": "d9c3bc42f4f01275",
   "outputs": [
    {
     "data": {
      "text/plain": [
       "<Figure size 640x480 with 2 Axes>"
      ],
      "image/png": "[encoded data removed]"
     },
     "metadata": {},
     "output_type": "display_data"
    }
   ],
   "execution_count": 1472
  },
  {
   "metadata": {
    "ExecuteTime": {
     "end_time": "2025-03-06T14:40:12.217960Z",
     "start_time": "2025-03-06T14:40:12.131801Z"
    }
   },
   "cell_type": "code",
   "source": [
    "sns.scatterplot(x='Votes', y='Score', data=movies)\n",
    "plt.title('Votes vs. Score')\n",
    "plt.xlabel('Votes')\n",
    "plt.ylabel('Score')\n",
    "plt.show()"
   ],
   "id": "37d133b3b3aa7437",
   "outputs": [
    {
     "data": {
      "text/plain": [
       "<Figure size 640x480 with 1 Axes>"
      ],
      "image/png": "[encoded data removed]"
     },
     "metadata": {},
     "output_type": "display_data"
    }
   ],
   "execution_count": 1473
  },
  {
   "metadata": {
    "ExecuteTime": {
     "end_time": "2025-03-06T14:40:12.308620Z",
     "start_time": "2025-03-06T14:40:12.220518Z"
    }
   },
   "cell_type": "code",
   "source": [
    "top_directors = movies['Director'].value_counts().nlargest(5)\n",
    "sns.barplot(x=top_directors.index, y=top_directors.values)\n",
    "plt.title('Top Directors by Number of Movies')\n",
    "plt.xlabel('Director')\n",
    "plt.ylabel('Number of Movies')\n",
    "plt.xticks(rotation=45)\n",
    "plt.show()"
   ],
   "id": "b750dcce5c67d5e0",
   "outputs": [
    {
     "data": {
      "text/plain": [
       "<Figure size 640x480 with 1 Axes>"
      ],
      "image/png": "[encoded data removed]"
     },
     "metadata": {},
     "output_type": "display_data"
    }
   ],
   "execution_count": 1474
  }
 ],
 "metadata": {
  "kernelspec": {
   "display_name": "Python 3",
   "language": "python",
   "name": "python3"
  },
  "language_info": {
   "codemirror_mode": {
    "name": "ipython",
    "version": 2
   },
   "file_extension": ".py",
   "mimetype": "text/x-python",
   "name": "python",
   "nbconvert_exporter": "python",
   "pygments_lexer": "ipython2",
   "version": "2.7.6"
  }
 },
 "nbformat": 4,
 "nbformat_minor": 5
}
